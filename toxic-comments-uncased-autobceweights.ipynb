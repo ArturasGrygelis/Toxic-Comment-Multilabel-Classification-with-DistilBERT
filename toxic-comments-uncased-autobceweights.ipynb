{
 "cells": [
  {
   "cell_type": "markdown",
   "metadata": {
    "id": "7KdflBn4Yah9"
   },
   "source": [
    "# Multi label toxic comments classification with DistilBERT uncased base model"
   ]
  },
  {
   "cell_type": "markdown",
   "metadata": {},
   "source": [
    "## Goal\n",
    "* **Goal of a project :** Fine-tune the DistilBert uncased base model for multi-label classification. This model will be used to analyze the Jigsaw Toxic Comment Classification dataset, enabling the detection of multiple toxic content categories within a single comment.\n",
    "* **Goal of this notebook :** Check which DistilBert model work's better, cased or uncased."
   ]
  },
  {
   "cell_type": "markdown",
   "metadata": {},
   "source": [
    "## Evaluation metrics\n",
    "* **Main metric:** Weighted Roc_auc\n",
    "* **Secondary metrics:** Weighted F1-score and hamming loss "
   ]
  },
  {
   "cell_type": "markdown",
   "metadata": {},
   "source": [
    "## Dataset \n",
    "* **Dataset :**  Jigsaw Toxic Comment Classification Challenge dataset https://www.kaggle.com/c/jigsaw-toxic-comment-classification-challenge/data\n",
    "* **Description :**   Contains text comments labeled with multiple toxicity categories(\"toxic\", \"severe_toxic\", \"obscene\", \"threat\", \"insult\", \"identity_hate\")."
   ]
  },
  {
   "cell_type": "markdown",
   "metadata": {
    "id": "gMCACpdMYaiA"
   },
   "source": [
    "## Data read"
   ]
  },
  {
   "cell_type": "code",
   "execution_count": 1,
   "metadata": {
    "_cell_guid": "b1076dfc-b9ad-4769-8c92-a6c4dae69d19",
    "_uuid": "8f2839f25d086af736a60e9eeb907d3b93b6e0e5",
    "execution": {
     "iopub.execute_input": "2024-05-07T12:14:04.532677Z",
     "iopub.status.busy": "2024-05-07T12:14:04.532391Z",
     "iopub.status.idle": "2024-05-07T12:14:05.215409Z",
     "shell.execute_reply": "2024-05-07T12:14:05.214349Z",
     "shell.execute_reply.started": "2024-05-07T12:14:04.532652Z"
    },
    "id": "avhtsXHUYaiA",
    "outputId": "1ce3bef6-8b7d-4a52-af48-b3dc9c77e6f5"
   },
   "outputs": [
    {
     "name": "stdout",
     "output_type": "stream",
     "text": [
      "/kaggle/input/jigsaw-toxic-comment-classification-challenge/train.csv.zip\n",
      "/kaggle/input/jigsaw-toxic-comment-classification-challenge/sample_submission.csv.zip\n",
      "/kaggle/input/jigsaw-toxic-comment-classification-challenge/test_labels.csv.zip\n",
      "/kaggle/input/jigsaw-toxic-comment-classification-challenge/test.csv.zip\n"
     ]
    }
   ],
   "source": [
    "import pandas as pd\n",
    "import numpy as np\n",
    "\n",
    "import os\n",
    "for dirname, _, filenames in os.walk('/kaggle/input'):\n",
    "    for filename in filenames:\n",
    "        print(os.path.join(dirname, filename))\n"
   ]
  },
  {
   "cell_type": "code",
   "execution_count": 2,
   "metadata": {
    "execution": {
     "iopub.execute_input": "2024-05-07T12:14:05.217400Z",
     "iopub.status.busy": "2024-05-07T12:14:05.216977Z",
     "iopub.status.idle": "2024-05-07T12:14:22.267833Z",
     "shell.execute_reply": "2024-05-07T12:14:22.266978Z",
     "shell.execute_reply.started": "2024-05-07T12:14:05.217372Z"
    },
    "id": "iAPNFaWhYaiC",
    "outputId": "d944edec-2ac2-48f4-d7dd-97bb6b54aaa6"
   },
   "outputs": [
    {
     "name": "stderr",
     "output_type": "stream",
     "text": [
      "2024-05-07 12:14:14.454501: E external/local_xla/xla/stream_executor/cuda/cuda_dnn.cc:9261] Unable to register cuDNN factory: Attempting to register factory for plugin cuDNN when one has already been registered\n",
      "2024-05-07 12:14:14.454603: E external/local_xla/xla/stream_executor/cuda/cuda_fft.cc:607] Unable to register cuFFT factory: Attempting to register factory for plugin cuFFT when one has already been registered\n",
      "2024-05-07 12:14:14.556949: E external/local_xla/xla/stream_executor/cuda/cuda_blas.cc:1515] Unable to register cuBLAS factory: Attempting to register factory for plugin cuBLAS when one has already been registered\n"
     ]
    }
   ],
   "source": [
    "import random\n",
    "import matplotlib.pyplot as plt\n",
    "import transformers\n",
    "import datasets\n",
    "import torch\n",
    "from transformers import (AutoTokenizer, AutoModelForSequenceClassification,\n",
    "                          TrainingArguments, Trainer)\n",
    "import torch.nn as nn\n",
    "np.object = object\n",
    "from sklearn.metrics import multilabel_confusion_matrix,ConfusionMatrixDisplay,roc_auc_score, f1_score, hamming_loss\n",
    "from sklearn.utils.multiclass import unique_labels\n",
    "from transformers import TrainingArguments,AutoTokenizer, AutoModelForSequenceClassification,Trainer,EvalPrediction,DistilBertTokenizer , DistilBertForSequenceClassification\n",
    "from sklearn.model_selection import train_test_split\n",
    "from datasets import Dataset,DatasetDict\n",
    "import numpy as np\n",
    "\n"
   ]
  },
  {
   "cell_type": "code",
   "execution_count": 3,
   "metadata": {
    "execution": {
     "iopub.execute_input": "2024-05-07T12:14:22.269534Z",
     "iopub.status.busy": "2024-05-07T12:14:22.268984Z",
     "iopub.status.idle": "2024-05-07T12:14:28.432335Z",
     "shell.execute_reply": "2024-05-07T12:14:28.431078Z",
     "shell.execute_reply.started": "2024-05-07T12:14:22.269506Z"
    },
    "id": "JMYWdjrBYaiC"
   },
   "outputs": [],
   "source": [
    "input_files = [\n",
    "    \"/kaggle/input/jigsaw-toxic-comment-classification-challenge/train.csv.zip\",\n",
    "    \"/kaggle/input/jigsaw-toxic-comment-classification-challenge/sample_submission.csv.zip\",\n",
    "    \"/kaggle/input/jigsaw-toxic-comment-classification-challenge/test_labels.csv.zip\",\n",
    "    \"/kaggle/input/jigsaw-toxic-comment-classification-challenge/test.csv.zip\",\n",
    "]\n",
    "\n",
    "output_directory = \"/kaggle/working/extracted_files\"\n",
    "\n",
    "\n",
    "os.makedirs(output_directory, exist_ok=True)\n",
    "\n",
    "for input_file in input_files:\n",
    "    !unzip -q {input_file} -d {output_directory}"
   ]
  },
  {
   "cell_type": "code",
   "execution_count": 4,
   "metadata": {
    "execution": {
     "iopub.execute_input": "2024-05-07T12:14:28.435627Z",
     "iopub.status.busy": "2024-05-07T12:14:28.435274Z",
     "iopub.status.idle": "2024-05-07T12:14:29.493809Z",
     "shell.execute_reply": "2024-05-07T12:14:29.492737Z",
     "shell.execute_reply.started": "2024-05-07T12:14:28.435594Z"
    },
    "id": "A3730l98YaiD"
   },
   "outputs": [],
   "source": [
    "df_train = pd.read_csv(r'/kaggle/working/extracted_files/train.csv')"
   ]
  },
  {
   "cell_type": "code",
   "execution_count": 5,
   "metadata": {
    "execution": {
     "iopub.execute_input": "2024-05-07T12:14:29.495714Z",
     "iopub.status.busy": "2024-05-07T12:14:29.495415Z",
     "iopub.status.idle": "2024-05-07T12:14:29.522923Z",
     "shell.execute_reply": "2024-05-07T12:14:29.522005Z",
     "shell.execute_reply.started": "2024-05-07T12:14:29.495688Z"
    },
    "id": "jzholrrQYaiE",
    "outputId": "0f32658d-7e9e-46dc-e3da-2b2fab69196e"
   },
   "outputs": [
    {
     "data": {
      "text/html": [
       "<div>\n",
       "<style scoped>\n",
       "    .dataframe tbody tr th:only-of-type {\n",
       "        vertical-align: middle;\n",
       "    }\n",
       "\n",
       "    .dataframe tbody tr th {\n",
       "        vertical-align: top;\n",
       "    }\n",
       "\n",
       "    .dataframe thead th {\n",
       "        text-align: right;\n",
       "    }\n",
       "</style>\n",
       "<table border=\"1\" class=\"dataframe\">\n",
       "  <thead>\n",
       "    <tr style=\"text-align: right;\">\n",
       "      <th></th>\n",
       "      <th>id</th>\n",
       "      <th>comment_text</th>\n",
       "      <th>toxic</th>\n",
       "      <th>severe_toxic</th>\n",
       "      <th>obscene</th>\n",
       "      <th>threat</th>\n",
       "      <th>insult</th>\n",
       "      <th>identity_hate</th>\n",
       "    </tr>\n",
       "  </thead>\n",
       "  <tbody>\n",
       "    <tr>\n",
       "      <th>0</th>\n",
       "      <td>0000997932d777bf</td>\n",
       "      <td>Explanation\\nWhy the edits made under my usern...</td>\n",
       "      <td>0</td>\n",
       "      <td>0</td>\n",
       "      <td>0</td>\n",
       "      <td>0</td>\n",
       "      <td>0</td>\n",
       "      <td>0</td>\n",
       "    </tr>\n",
       "    <tr>\n",
       "      <th>1</th>\n",
       "      <td>000103f0d9cfb60f</td>\n",
       "      <td>D'aww! He matches this background colour I'm s...</td>\n",
       "      <td>0</td>\n",
       "      <td>0</td>\n",
       "      <td>0</td>\n",
       "      <td>0</td>\n",
       "      <td>0</td>\n",
       "      <td>0</td>\n",
       "    </tr>\n",
       "    <tr>\n",
       "      <th>2</th>\n",
       "      <td>000113f07ec002fd</td>\n",
       "      <td>Hey man, I'm really not trying to edit war. It...</td>\n",
       "      <td>0</td>\n",
       "      <td>0</td>\n",
       "      <td>0</td>\n",
       "      <td>0</td>\n",
       "      <td>0</td>\n",
       "      <td>0</td>\n",
       "    </tr>\n",
       "    <tr>\n",
       "      <th>3</th>\n",
       "      <td>0001b41b1c6bb37e</td>\n",
       "      <td>\"\\nMore\\nI can't make any real suggestions on ...</td>\n",
       "      <td>0</td>\n",
       "      <td>0</td>\n",
       "      <td>0</td>\n",
       "      <td>0</td>\n",
       "      <td>0</td>\n",
       "      <td>0</td>\n",
       "    </tr>\n",
       "    <tr>\n",
       "      <th>4</th>\n",
       "      <td>0001d958c54c6e35</td>\n",
       "      <td>You, sir, are my hero. Any chance you remember...</td>\n",
       "      <td>0</td>\n",
       "      <td>0</td>\n",
       "      <td>0</td>\n",
       "      <td>0</td>\n",
       "      <td>0</td>\n",
       "      <td>0</td>\n",
       "    </tr>\n",
       "    <tr>\n",
       "      <th>...</th>\n",
       "      <td>...</td>\n",
       "      <td>...</td>\n",
       "      <td>...</td>\n",
       "      <td>...</td>\n",
       "      <td>...</td>\n",
       "      <td>...</td>\n",
       "      <td>...</td>\n",
       "      <td>...</td>\n",
       "    </tr>\n",
       "    <tr>\n",
       "      <th>159566</th>\n",
       "      <td>ffe987279560d7ff</td>\n",
       "      <td>\":::::And for the second time of asking, when ...</td>\n",
       "      <td>0</td>\n",
       "      <td>0</td>\n",
       "      <td>0</td>\n",
       "      <td>0</td>\n",
       "      <td>0</td>\n",
       "      <td>0</td>\n",
       "    </tr>\n",
       "    <tr>\n",
       "      <th>159567</th>\n",
       "      <td>ffea4adeee384e90</td>\n",
       "      <td>You should be ashamed of yourself \\n\\nThat is ...</td>\n",
       "      <td>0</td>\n",
       "      <td>0</td>\n",
       "      <td>0</td>\n",
       "      <td>0</td>\n",
       "      <td>0</td>\n",
       "      <td>0</td>\n",
       "    </tr>\n",
       "    <tr>\n",
       "      <th>159568</th>\n",
       "      <td>ffee36eab5c267c9</td>\n",
       "      <td>Spitzer \\n\\nUmm, theres no actual article for ...</td>\n",
       "      <td>0</td>\n",
       "      <td>0</td>\n",
       "      <td>0</td>\n",
       "      <td>0</td>\n",
       "      <td>0</td>\n",
       "      <td>0</td>\n",
       "    </tr>\n",
       "    <tr>\n",
       "      <th>159569</th>\n",
       "      <td>fff125370e4aaaf3</td>\n",
       "      <td>And it looks like it was actually you who put ...</td>\n",
       "      <td>0</td>\n",
       "      <td>0</td>\n",
       "      <td>0</td>\n",
       "      <td>0</td>\n",
       "      <td>0</td>\n",
       "      <td>0</td>\n",
       "    </tr>\n",
       "    <tr>\n",
       "      <th>159570</th>\n",
       "      <td>fff46fc426af1f9a</td>\n",
       "      <td>\"\\nAnd ... I really don't think you understand...</td>\n",
       "      <td>0</td>\n",
       "      <td>0</td>\n",
       "      <td>0</td>\n",
       "      <td>0</td>\n",
       "      <td>0</td>\n",
       "      <td>0</td>\n",
       "    </tr>\n",
       "  </tbody>\n",
       "</table>\n",
       "<p>159571 rows × 8 columns</p>\n",
       "</div>"
      ],
      "text/plain": [
       "                      id                                       comment_text  \\\n",
       "0       0000997932d777bf  Explanation\\nWhy the edits made under my usern...   \n",
       "1       000103f0d9cfb60f  D'aww! He matches this background colour I'm s...   \n",
       "2       000113f07ec002fd  Hey man, I'm really not trying to edit war. It...   \n",
       "3       0001b41b1c6bb37e  \"\\nMore\\nI can't make any real suggestions on ...   \n",
       "4       0001d958c54c6e35  You, sir, are my hero. Any chance you remember...   \n",
       "...                  ...                                                ...   \n",
       "159566  ffe987279560d7ff  \":::::And for the second time of asking, when ...   \n",
       "159567  ffea4adeee384e90  You should be ashamed of yourself \\n\\nThat is ...   \n",
       "159568  ffee36eab5c267c9  Spitzer \\n\\nUmm, theres no actual article for ...   \n",
       "159569  fff125370e4aaaf3  And it looks like it was actually you who put ...   \n",
       "159570  fff46fc426af1f9a  \"\\nAnd ... I really don't think you understand...   \n",
       "\n",
       "        toxic  severe_toxic  obscene  threat  insult  identity_hate  \n",
       "0           0             0        0       0       0              0  \n",
       "1           0             0        0       0       0              0  \n",
       "2           0             0        0       0       0              0  \n",
       "3           0             0        0       0       0              0  \n",
       "4           0             0        0       0       0              0  \n",
       "...       ...           ...      ...     ...     ...            ...  \n",
       "159566      0             0        0       0       0              0  \n",
       "159567      0             0        0       0       0              0  \n",
       "159568      0             0        0       0       0              0  \n",
       "159569      0             0        0       0       0              0  \n",
       "159570      0             0        0       0       0              0  \n",
       "\n",
       "[159571 rows x 8 columns]"
      ]
     },
     "execution_count": 5,
     "metadata": {},
     "output_type": "execute_result"
    }
   ],
   "source": [
    "df_train"
   ]
  },
  {
   "cell_type": "markdown",
   "metadata": {},
   "source": [
    "## Dataset info"
   ]
  },
  {
   "cell_type": "code",
   "execution_count": 6,
   "metadata": {
    "execution": {
     "iopub.execute_input": "2024-05-07T12:14:29.524564Z",
     "iopub.status.busy": "2024-05-07T12:14:29.524197Z",
     "iopub.status.idle": "2024-05-07T12:14:29.585384Z",
     "shell.execute_reply": "2024-05-07T12:14:29.584378Z",
     "shell.execute_reply.started": "2024-05-07T12:14:29.524532Z"
    },
    "id": "U_VZs9MvYaiF",
    "outputId": "4cc5e81f-b665-4d5c-f0f7-a6045835a6da"
   },
   "outputs": [
    {
     "name": "stdout",
     "output_type": "stream",
     "text": [
      "<class 'pandas.core.frame.DataFrame'>\n",
      "RangeIndex: 159571 entries, 0 to 159570\n",
      "Data columns (total 8 columns):\n",
      " #   Column         Non-Null Count   Dtype \n",
      "---  ------         --------------   ----- \n",
      " 0   id             159571 non-null  object\n",
      " 1   comment_text   159571 non-null  object\n",
      " 2   toxic          159571 non-null  int64 \n",
      " 3   severe_toxic   159571 non-null  int64 \n",
      " 4   obscene        159571 non-null  int64 \n",
      " 5   threat         159571 non-null  int64 \n",
      " 6   insult         159571 non-null  int64 \n",
      " 7   identity_hate  159571 non-null  int64 \n",
      "dtypes: int64(6), object(2)\n",
      "memory usage: 9.7+ MB\n"
     ]
    }
   ],
   "source": [
    "df_train.info()"
   ]
  },
  {
   "cell_type": "code",
   "execution_count": 8,
   "metadata": {
    "execution": {
     "iopub.execute_input": "2024-05-07T12:15:33.979873Z",
     "iopub.status.busy": "2024-05-07T12:15:33.979485Z",
     "iopub.status.idle": "2024-05-07T12:15:34.045806Z",
     "shell.execute_reply": "2024-05-07T12:15:34.044721Z",
     "shell.execute_reply.started": "2024-05-07T12:15:33.979840Z"
    },
    "id": "hizfbhnYYaiG"
   },
   "outputs": [
    {
     "data": {
      "text/plain": [
       "id               False\n",
       "comment_text     False\n",
       "toxic            False\n",
       "severe_toxic     False\n",
       "obscene          False\n",
       "threat           False\n",
       "insult           False\n",
       "identity_hate    False\n",
       "labels           False\n",
       "dtype: bool"
      ]
     },
     "execution_count": 8,
     "metadata": {},
     "output_type": "execute_result"
    }
   ],
   "source": [
    "df_train.isna().any()"
   ]
  },
  {
   "cell_type": "markdown",
   "metadata": {},
   "source": [
    "* Dataset is made out of 159571 records.\n",
    "* No missing values found."
   ]
  },
  {
   "cell_type": "code",
   "execution_count": 11,
   "metadata": {
    "execution": {
     "iopub.execute_input": "2024-05-07T12:15:34.799839Z",
     "iopub.status.busy": "2024-05-07T12:15:34.799519Z",
     "iopub.status.idle": "2024-05-07T12:15:34.970220Z",
     "shell.execute_reply": "2024-05-07T12:15:34.968776Z",
     "shell.execute_reply.started": "2024-05-07T12:15:34.799813Z"
    },
    "id": "RaQN-1GBYaiH",
    "scrolled": false
   },
   "outputs": [
    {
     "data": {
      "image/png": "[encoded data removed]",
      "text/plain": [
       "<Figure size 600x600 with 1 Axes>"
      ]
     },
     "metadata": {},
     "output_type": "display_data"
    }
   ],
   "source": [
    "toxic_counts = df_train['toxic'].value_counts().sort_values(ascending=False)\n",
    "\n",
    "# Create the pie chart\n",
    "plt.figure(figsize=(6, 6))  # Adjust figure size as desired\n",
    "plt.pie(toxic_counts, labels=toxic_counts.index, autopct=\"%1.1f%%\")  # Format percentages with one decimal place\n",
    "plt.title(\"Distribution of Toxicity in Comments\")\n",
    "plt.show()"
   ]
  },
  {
   "cell_type": "markdown",
   "metadata": {},
   "source": [
    "* Inbalance: Only 9.6% of values belong to the minority class."
   ]
  },
  {
   "cell_type": "markdown",
   "metadata": {},
   "source": [
    "### Distribution of characters amount in comment texts"
   ]
  },
  {
   "cell_type": "code",
   "execution_count": 9,
   "metadata": {
    "execution": {
     "iopub.execute_input": "2024-05-07T12:15:34.047792Z",
     "iopub.status.busy": "2024-05-07T12:15:34.047369Z",
     "iopub.status.idle": "2024-05-07T12:15:34.664085Z",
     "shell.execute_reply": "2024-05-07T12:15:34.663204Z",
     "shell.execute_reply.started": "2024-05-07T12:15:34.047757Z"
    },
    "id": "f15XWUp4YaiG",
    "scrolled": false
   },
   "outputs": [
    {
     "data": {
      "text/plain": [
       "<Axes: ylabel='Frequency'>"
      ]
     },
     "execution_count": 9,
     "metadata": {},
     "output_type": "execute_result"
    },
    {
     "data": {
      "image/png": "[encoded data removed]",
      "text/plain": [
       "<Figure size 1000x800 with 1 Axes>"
      ]
     },
     "metadata": {},
     "output_type": "display_data"
    }
   ],
   "source": [
    "df_train['comment_text'].str.len().plot.hist(bins=100,figsize=(10,8))"
   ]
  },
  {
   "cell_type": "code",
   "execution_count": 10,
   "metadata": {
    "execution": {
     "iopub.execute_input": "2024-05-07T12:15:34.668989Z",
     "iopub.status.busy": "2024-05-07T12:15:34.668658Z",
     "iopub.status.idle": "2024-05-07T12:15:34.798353Z",
     "shell.execute_reply": "2024-05-07T12:15:34.797399Z",
     "shell.execute_reply.started": "2024-05-07T12:15:34.668962Z"
    },
    "id": "BHVhktWVYaiH"
   },
   "outputs": [
    {
     "data": {
      "text/plain": [
       "count    159571.000000\n",
       "mean        394.073221\n",
       "std         590.720282\n",
       "min           6.000000\n",
       "25%          96.000000\n",
       "50%         205.000000\n",
       "75%         435.000000\n",
       "max        5000.000000\n",
       "Name: comment_text, dtype: float64"
      ]
     },
     "execution_count": 10,
     "metadata": {},
     "output_type": "execute_result"
    }
   ],
   "source": [
    "df_train['comment_text'].str.len().describe()"
   ]
  },
  {
   "cell_type": "markdown",
   "metadata": {},
   "source": [
    "* Average character lenght in English language range from 5 to 6 characters per word when considering punctuation, spaces, and special characters. This value will vary depending on the specific data source and its characteristics. Average 65-78 words at dataset comment text\n",
    "* The shortest cooment text is made out of 6 characters, the longest out of 5000 characters\n",
    "* Average leght of comment texts is 394 characters"
   ]
  },
  {
   "cell_type": "markdown",
   "metadata": {},
   "source": [
    "## Data preprocess"
   ]
  },
  {
   "cell_type": "code",
   "execution_count": 7,
   "metadata": {
    "execution": {
     "iopub.execute_input": "2024-05-07T12:14:29.586775Z",
     "iopub.status.busy": "2024-05-07T12:14:29.586472Z",
     "iopub.status.idle": "2024-05-07T12:15:33.977992Z",
     "shell.execute_reply": "2024-05-07T12:15:33.976892Z",
     "shell.execute_reply.started": "2024-05-07T12:14:29.586749Z"
    },
    "id": "R1taJEyUYaiF"
   },
   "outputs": [
    {
     "data": {
      "text/html": [
       "<div>\n",
       "<style scoped>\n",
       "    .dataframe tbody tr th:only-of-type {\n",
       "        vertical-align: middle;\n",
       "    }\n",
       "\n",
       "    .dataframe tbody tr th {\n",
       "        vertical-align: top;\n",
       "    }\n",
       "\n",
       "    .dataframe thead th {\n",
       "        text-align: right;\n",
       "    }\n",
       "</style>\n",
       "<table border=\"1\" class=\"dataframe\">\n",
       "  <thead>\n",
       "    <tr style=\"text-align: right;\">\n",
       "      <th></th>\n",
       "      <th>id</th>\n",
       "      <th>comment_text</th>\n",
       "      <th>toxic</th>\n",
       "      <th>severe_toxic</th>\n",
       "      <th>obscene</th>\n",
       "      <th>threat</th>\n",
       "      <th>insult</th>\n",
       "      <th>identity_hate</th>\n",
       "      <th>labels</th>\n",
       "    </tr>\n",
       "  </thead>\n",
       "  <tbody>\n",
       "    <tr>\n",
       "      <th>0</th>\n",
       "      <td>0000997932d777bf</td>\n",
       "      <td>Explanation\\nWhy the edits made under my usern...</td>\n",
       "      <td>0</td>\n",
       "      <td>0</td>\n",
       "      <td>0</td>\n",
       "      <td>0</td>\n",
       "      <td>0</td>\n",
       "      <td>0</td>\n",
       "      <td>[0, 0, 0, 0, 0, 0]</td>\n",
       "    </tr>\n",
       "    <tr>\n",
       "      <th>1</th>\n",
       "      <td>000103f0d9cfb60f</td>\n",
       "      <td>D'aww! He matches this background colour I'm s...</td>\n",
       "      <td>0</td>\n",
       "      <td>0</td>\n",
       "      <td>0</td>\n",
       "      <td>0</td>\n",
       "      <td>0</td>\n",
       "      <td>0</td>\n",
       "      <td>[0, 0, 0, 0, 0, 0]</td>\n",
       "    </tr>\n",
       "    <tr>\n",
       "      <th>2</th>\n",
       "      <td>000113f07ec002fd</td>\n",
       "      <td>Hey man, I'm really not trying to edit war. It...</td>\n",
       "      <td>0</td>\n",
       "      <td>0</td>\n",
       "      <td>0</td>\n",
       "      <td>0</td>\n",
       "      <td>0</td>\n",
       "      <td>0</td>\n",
       "      <td>[0, 0, 0, 0, 0, 0]</td>\n",
       "    </tr>\n",
       "    <tr>\n",
       "      <th>3</th>\n",
       "      <td>0001b41b1c6bb37e</td>\n",
       "      <td>\"\\nMore\\nI can't make any real suggestions on ...</td>\n",
       "      <td>0</td>\n",
       "      <td>0</td>\n",
       "      <td>0</td>\n",
       "      <td>0</td>\n",
       "      <td>0</td>\n",
       "      <td>0</td>\n",
       "      <td>[0, 0, 0, 0, 0, 0]</td>\n",
       "    </tr>\n",
       "    <tr>\n",
       "      <th>4</th>\n",
       "      <td>0001d958c54c6e35</td>\n",
       "      <td>You, sir, are my hero. Any chance you remember...</td>\n",
       "      <td>0</td>\n",
       "      <td>0</td>\n",
       "      <td>0</td>\n",
       "      <td>0</td>\n",
       "      <td>0</td>\n",
       "      <td>0</td>\n",
       "      <td>[0, 0, 0, 0, 0, 0]</td>\n",
       "    </tr>\n",
       "    <tr>\n",
       "      <th>...</th>\n",
       "      <td>...</td>\n",
       "      <td>...</td>\n",
       "      <td>...</td>\n",
       "      <td>...</td>\n",
       "      <td>...</td>\n",
       "      <td>...</td>\n",
       "      <td>...</td>\n",
       "      <td>...</td>\n",
       "      <td>...</td>\n",
       "    </tr>\n",
       "    <tr>\n",
       "      <th>159566</th>\n",
       "      <td>ffe987279560d7ff</td>\n",
       "      <td>\":::::And for the second time of asking, when ...</td>\n",
       "      <td>0</td>\n",
       "      <td>0</td>\n",
       "      <td>0</td>\n",
       "      <td>0</td>\n",
       "      <td>0</td>\n",
       "      <td>0</td>\n",
       "      <td>[0, 0, 0, 0, 0, 0]</td>\n",
       "    </tr>\n",
       "    <tr>\n",
       "      <th>159567</th>\n",
       "      <td>ffea4adeee384e90</td>\n",
       "      <td>You should be ashamed of yourself \\n\\nThat is ...</td>\n",
       "      <td>0</td>\n",
       "      <td>0</td>\n",
       "      <td>0</td>\n",
       "      <td>0</td>\n",
       "      <td>0</td>\n",
       "      <td>0</td>\n",
       "      <td>[0, 0, 0, 0, 0, 0]</td>\n",
       "    </tr>\n",
       "    <tr>\n",
       "      <th>159568</th>\n",
       "      <td>ffee36eab5c267c9</td>\n",
       "      <td>Spitzer \\n\\nUmm, theres no actual article for ...</td>\n",
       "      <td>0</td>\n",
       "      <td>0</td>\n",
       "      <td>0</td>\n",
       "      <td>0</td>\n",
       "      <td>0</td>\n",
       "      <td>0</td>\n",
       "      <td>[0, 0, 0, 0, 0, 0]</td>\n",
       "    </tr>\n",
       "    <tr>\n",
       "      <th>159569</th>\n",
       "      <td>fff125370e4aaaf3</td>\n",
       "      <td>And it looks like it was actually you who put ...</td>\n",
       "      <td>0</td>\n",
       "      <td>0</td>\n",
       "      <td>0</td>\n",
       "      <td>0</td>\n",
       "      <td>0</td>\n",
       "      <td>0</td>\n",
       "      <td>[0, 0, 0, 0, 0, 0]</td>\n",
       "    </tr>\n",
       "    <tr>\n",
       "      <th>159570</th>\n",
       "      <td>fff46fc426af1f9a</td>\n",
       "      <td>\"\\nAnd ... I really don't think you understand...</td>\n",
       "      <td>0</td>\n",
       "      <td>0</td>\n",
       "      <td>0</td>\n",
       "      <td>0</td>\n",
       "      <td>0</td>\n",
       "      <td>0</td>\n",
       "      <td>[0, 0, 0, 0, 0, 0]</td>\n",
       "    </tr>\n",
       "  </tbody>\n",
       "</table>\n",
       "<p>159571 rows × 9 columns</p>\n",
       "</div>"
      ],
      "text/plain": [
       "                      id                                       comment_text  \\\n",
       "0       0000997932d777bf  Explanation\\nWhy the edits made under my usern...   \n",
       "1       000103f0d9cfb60f  D'aww! He matches this background colour I'm s...   \n",
       "2       000113f07ec002fd  Hey man, I'm really not trying to edit war. It...   \n",
       "3       0001b41b1c6bb37e  \"\\nMore\\nI can't make any real suggestions on ...   \n",
       "4       0001d958c54c6e35  You, sir, are my hero. Any chance you remember...   \n",
       "...                  ...                                                ...   \n",
       "159566  ffe987279560d7ff  \":::::And for the second time of asking, when ...   \n",
       "159567  ffea4adeee384e90  You should be ashamed of yourself \\n\\nThat is ...   \n",
       "159568  ffee36eab5c267c9  Spitzer \\n\\nUmm, theres no actual article for ...   \n",
       "159569  fff125370e4aaaf3  And it looks like it was actually you who put ...   \n",
       "159570  fff46fc426af1f9a  \"\\nAnd ... I really don't think you understand...   \n",
       "\n",
       "        toxic  severe_toxic  obscene  threat  insult  identity_hate  \\\n",
       "0           0             0        0       0       0              0   \n",
       "1           0             0        0       0       0              0   \n",
       "2           0             0        0       0       0              0   \n",
       "3           0             0        0       0       0              0   \n",
       "4           0             0        0       0       0              0   \n",
       "...       ...           ...      ...     ...     ...            ...   \n",
       "159566      0             0        0       0       0              0   \n",
       "159567      0             0        0       0       0              0   \n",
       "159568      0             0        0       0       0              0   \n",
       "159569      0             0        0       0       0              0   \n",
       "159570      0             0        0       0       0              0   \n",
       "\n",
       "                    labels  \n",
       "0       [0, 0, 0, 0, 0, 0]  \n",
       "1       [0, 0, 0, 0, 0, 0]  \n",
       "2       [0, 0, 0, 0, 0, 0]  \n",
       "3       [0, 0, 0, 0, 0, 0]  \n",
       "4       [0, 0, 0, 0, 0, 0]  \n",
       "...                    ...  \n",
       "159566  [0, 0, 0, 0, 0, 0]  \n",
       "159567  [0, 0, 0, 0, 0, 0]  \n",
       "159568  [0, 0, 0, 0, 0, 0]  \n",
       "159569  [0, 0, 0, 0, 0, 0]  \n",
       "159570  [0, 0, 0, 0, 0, 0]  \n",
       "\n",
       "[159571 rows x 9 columns]"
      ]
     },
     "execution_count": 7,
     "metadata": {},
     "output_type": "execute_result"
    }
   ],
   "source": [
    "sentiment_features = ['toxic', 'severe_toxic', 'obscene', 'threat','insult', 'identity_hate']\n",
    "\n",
    "combined_sentiment = []\n",
    "\n",
    "\n",
    "for index, row in df_train.iterrows():\n",
    "    sentiment_list = row[sentiment_features].tolist()\n",
    "    combined_sentiment.append(sentiment_list)\n",
    "\n",
    "df_train['labels'] = combined_sentiment\n",
    "\n",
    "df_train"
   ]
  },
  {
   "cell_type": "markdown",
   "metadata": {},
   "source": [
    "* Target of this project is multilabel, it mean's target label is made out of more than one labels. Because of this 6 toxicity labels are combined into single one."
   ]
  },
  {
   "cell_type": "markdown",
   "metadata": {
    "id": "TAvYbAHGYaiH"
   },
   "source": [
    "## Dataset split and format fixing, to be suitible for Trasformers"
   ]
  },
  {
   "cell_type": "markdown",
   "metadata": {},
   "source": [
    "###  Majority downsample to be ratio 3:1 with minority class"
   ]
  },
  {
   "cell_type": "code",
   "execution_count": 12,
   "metadata": {
    "execution": {
     "iopub.execute_input": "2024-05-07T12:15:34.973432Z",
     "iopub.status.busy": "2024-05-07T12:15:34.972667Z",
     "iopub.status.idle": "2024-05-07T12:15:35.076519Z",
     "shell.execute_reply": "2024-05-07T12:15:35.075403Z",
     "shell.execute_reply.started": "2024-05-07T12:15:34.973379Z"
    }
   },
   "outputs": [
    {
     "name": "stdout",
     "output_type": "stream",
     "text": [
      "Class distribution after downsampling:\n",
      " toxic\n",
      "0    45294\n",
      "1    15294\n",
      "Name: count, dtype: int64\n"
     ]
    }
   ],
   "source": [
    "majority_class = df_train[df_train['toxic'] == 0]\n",
    "minority_class = df_train[df_train['toxic'] == 1]\n",
    "\n",
    "downsampled_majority = majority_class.sample(n=len(minority_class)+30000, random_state=42)\n",
    "\n",
    "df_downsampled = pd.concat([downsampled_majority, minority_class])\n",
    "\n",
    "df_downsampled = df_downsampled.sample(frac=1, random_state=42).reset_index(drop=True)\n",
    "\n",
    "print(\"Class distribution after downsampling:\\n\", df_downsampled['toxic'].value_counts())"
   ]
  },
  {
   "cell_type": "markdown",
   "metadata": {},
   "source": [
    "###  Data split to train and validation sets "
   ]
  },
  {
   "cell_type": "code",
   "execution_count": 14,
   "metadata": {
    "execution": {
     "iopub.execute_input": "2024-05-07T12:15:35.106425Z",
     "iopub.status.busy": "2024-05-07T12:15:35.106126Z",
     "iopub.status.idle": "2024-05-07T12:15:35.114528Z",
     "shell.execute_reply": "2024-05-07T12:15:35.113408Z",
     "shell.execute_reply.started": "2024-05-07T12:15:35.106402Z"
    },
    "id": "6lwyRK7KYaiI"
   },
   "outputs": [],
   "source": [
    "X = df_downsampled.drop(\n",
    "    columns=[\"labels\"]\n",
    ")\n",
    "y = df_downsampled[\"labels\"]\n"
   ]
  },
  {
   "cell_type": "code",
   "execution_count": 15,
   "metadata": {
    "execution": {
     "iopub.execute_input": "2024-05-07T12:15:35.116392Z",
     "iopub.status.busy": "2024-05-07T12:15:35.115908Z",
     "iopub.status.idle": "2024-05-07T12:15:35.158856Z",
     "shell.execute_reply": "2024-05-07T12:15:35.157804Z",
     "shell.execute_reply.started": "2024-05-07T12:15:35.116360Z"
    },
    "id": "2ZNBjaqQYaiI"
   },
   "outputs": [],
   "source": [
    "X_train, X_val, y_train, y_val = train_test_split(\n",
    "    X,\n",
    "    y,\n",
    "    test_size=0.2,\n",
    "    random_state=42,\n",
    "    stratify=df_downsampled[\"toxic\"],\n",
    ")"
   ]
  },
  {
   "cell_type": "code",
   "execution_count": 16,
   "metadata": {
    "execution": {
     "iopub.execute_input": "2024-05-07T12:15:35.160977Z",
     "iopub.status.busy": "2024-05-07T12:15:35.160237Z",
     "iopub.status.idle": "2024-05-07T12:15:35.171023Z",
     "shell.execute_reply": "2024-05-07T12:15:35.169968Z",
     "shell.execute_reply.started": "2024-05-07T12:15:35.160940Z"
    },
    "id": "t50GgIwfYaiI"
   },
   "outputs": [
    {
     "data": {
      "text/plain": [
       "0        [0, 0, 0, 0, 0, 0]\n",
       "1        [1, 0, 0, 0, 0, 0]\n",
       "2        [0, 0, 0, 0, 0, 0]\n",
       "3        [0, 0, 0, 0, 0, 0]\n",
       "4        [0, 0, 0, 0, 0, 0]\n",
       "                ...        \n",
       "60583    [1, 0, 0, 0, 0, 0]\n",
       "60584    [0, 0, 0, 0, 0, 0]\n",
       "60585    [0, 0, 0, 0, 0, 0]\n",
       "60586    [0, 0, 0, 0, 0, 0]\n",
       "60587    [1, 0, 0, 0, 0, 0]\n",
       "Name: labels, Length: 60588, dtype: object"
      ]
     },
     "execution_count": 16,
     "metadata": {},
     "output_type": "execute_result"
    }
   ],
   "source": [
    "y"
   ]
  },
  {
   "cell_type": "code",
   "execution_count": null,
   "metadata": {},
   "outputs": [],
   "source": []
  },
  {
   "cell_type": "code",
   "execution_count": 17,
   "metadata": {
    "execution": {
     "iopub.execute_input": "2024-05-07T12:15:35.172548Z",
     "iopub.status.busy": "2024-05-07T12:15:35.172276Z",
     "iopub.status.idle": "2024-05-07T12:15:35.186482Z",
     "shell.execute_reply": "2024-05-07T12:15:35.185356Z",
     "shell.execute_reply.started": "2024-05-07T12:15:35.172525Z"
    },
    "id": "Nx2X9WckYaiI"
   },
   "outputs": [],
   "source": [
    "train_df = pd.concat([X_train, y_train.rename(\"labels\")], axis=1)\n",
    "test_df = pd.concat([X_val, y_val.rename(\"labels\")], axis=1)"
   ]
  },
  {
   "cell_type": "code",
   "execution_count": 18,
   "metadata": {
    "execution": {
     "iopub.execute_input": "2024-05-07T12:15:35.187897Z",
     "iopub.status.busy": "2024-05-07T12:15:35.187616Z",
     "iopub.status.idle": "2024-05-07T12:15:35.193380Z",
     "shell.execute_reply": "2024-05-07T12:15:35.192357Z",
     "shell.execute_reply.started": "2024-05-07T12:15:35.187873Z"
    }
   },
   "outputs": [
    {
     "name": "stdout",
     "output_type": "stream",
     "text": [
      "df_train size: 48470\n",
      "df_test size: 12118\n"
     ]
    }
   ],
   "source": [
    "print(\"df_train size:\", len(train_df))\n",
    "print(\"df_test size:\", len(test_df))\n"
   ]
  },
  {
   "cell_type": "markdown",
   "metadata": {},
   "source": [
    "###  Validation set labels values counts "
   ]
  },
  {
   "cell_type": "code",
   "execution_count": 19,
   "metadata": {
    "execution": {
     "iopub.execute_input": "2024-05-07T12:15:35.195123Z",
     "iopub.status.busy": "2024-05-07T12:15:35.194599Z",
     "iopub.status.idle": "2024-05-07T12:15:35.219956Z",
     "shell.execute_reply": "2024-05-07T12:15:35.218977Z",
     "shell.execute_reply.started": "2024-05-07T12:15:35.195097Z"
    }
   },
   "outputs": [
    {
     "data": {
      "text/plain": [
       "labels\n",
       "[0, 0, 0, 0, 0, 0]    8994\n",
       "[1, 0, 0, 0, 0, 0]    1143\n",
       "[1, 0, 1, 0, 1, 0]     766\n",
       "[1, 0, 1, 0, 0, 0]     337\n",
       "[1, 0, 0, 0, 1, 0]     233\n",
       "[1, 1, 1, 0, 1, 0]     202\n",
       "[1, 0, 1, 0, 1, 1]     118\n",
       "[1, 1, 1, 0, 1, 1]      56\n",
       "[1, 0, 0, 0, 0, 1]      32\n",
       "[1, 1, 1, 0, 0, 0]      29\n",
       "[1, 0, 0, 1, 0, 0]      28\n",
       "[0, 0, 1, 0, 0, 0]      25\n",
       "[1, 0, 0, 0, 1, 1]      25\n",
       "[1, 0, 1, 1, 1, 0]      22\n",
       "[0, 0, 0, 0, 1, 0]      20\n",
       "[1, 1, 1, 1, 1, 0]      15\n",
       "[1, 0, 1, 1, 1, 1]      14\n",
       "[0, 0, 1, 0, 1, 0]      13\n",
       "[1, 0, 1, 0, 0, 1]      12\n",
       "[1, 1, 0, 0, 0, 0]      10\n",
       "[1, 1, 0, 1, 0, 0]       4\n",
       "[1, 1, 1, 1, 1, 1]       4\n",
       "[0, 0, 0, 0, 0, 1]       3\n",
       "[1, 1, 0, 0, 1, 0]       3\n",
       "[0, 0, 0, 1, 0, 0]       2\n",
       "[1, 1, 0, 0, 1, 1]       2\n",
       "[1, 0, 1, 1, 0, 0]       1\n",
       "[0, 0, 1, 0, 1, 1]       1\n",
       "[0, 0, 0, 0, 1, 1]       1\n",
       "[1, 1, 1, 0, 0, 1]       1\n",
       "[1, 0, 0, 1, 1, 0]       1\n",
       "[1, 0, 0, 1, 0, 1]       1\n",
       "Name: count, dtype: int64"
      ]
     },
     "execution_count": 19,
     "metadata": {},
     "output_type": "execute_result"
    }
   ],
   "source": [
    "test_df.labels.value_counts()\n"
   ]
  },
  {
   "cell_type": "markdown",
   "metadata": {},
   "source": [
    "* In training set are multilabel labels which are very rare, some has only one unique labels combination.\n",
    "* Uncommon labels combinations will be transfered totraining set, so model will learn on those situations more."
   ]
  },
  {
   "cell_type": "markdown",
   "metadata": {},
   "source": [
    "###  Minority tranfers"
   ]
  },
  {
   "cell_type": "code",
   "execution_count": 20,
   "metadata": {
    "execution": {
     "iopub.execute_input": "2024-05-07T12:15:35.221589Z",
     "iopub.status.busy": "2024-05-07T12:15:35.221260Z",
     "iopub.status.idle": "2024-05-07T12:15:35.263978Z",
     "shell.execute_reply": "2024-05-07T12:15:35.262930Z",
     "shell.execute_reply.started": "2024-05-07T12:15:35.221561Z"
    }
   },
   "outputs": [
    {
     "name": "stdout",
     "output_type": "stream",
     "text": [
      "Updated df_train size: 48600\n",
      "Updated df_test size: 11988\n"
     ]
    }
   ],
   "source": [
    "label_counts = test_df[\"labels\"].value_counts()\n",
    "\n",
    "small_labels = [label for label, count in label_counts.items() if count < 23]\n",
    "\n",
    "records_to_transfer = test_df[test_df['labels'].apply(lambda x: x in small_labels)]\n",
    "\n",
    "train_df = pd.concat([train_df, records_to_transfer], ignore_index=True)\n",
    "\n",
    "test_df.drop(records_to_transfer.index, inplace=True)\n",
    "print(\"Updated df_train size:\", len(train_df))\n",
    "print(\"Updated df_test size:\", len(test_df))"
   ]
  },
  {
   "cell_type": "code",
   "execution_count": 21,
   "metadata": {
    "execution": {
     "iopub.execute_input": "2024-05-07T12:15:35.265452Z",
     "iopub.status.busy": "2024-05-07T12:15:35.265109Z",
     "iopub.status.idle": "2024-05-07T12:15:35.285526Z",
     "shell.execute_reply": "2024-05-07T12:15:35.284501Z",
     "shell.execute_reply.started": "2024-05-07T12:15:35.265426Z"
    }
   },
   "outputs": [
    {
     "data": {
      "text/plain": [
       "labels\n",
       "[0, 0, 0, 0, 0, 0]    8994\n",
       "[1, 0, 0, 0, 0, 0]    1143\n",
       "[1, 0, 1, 0, 1, 0]     766\n",
       "[1, 0, 1, 0, 0, 0]     337\n",
       "[1, 0, 0, 0, 1, 0]     233\n",
       "[1, 1, 1, 0, 1, 0]     202\n",
       "[1, 0, 1, 0, 1, 1]     118\n",
       "[1, 1, 1, 0, 1, 1]      56\n",
       "[1, 0, 0, 0, 0, 1]      32\n",
       "[1, 1, 1, 0, 0, 0]      29\n",
       "[1, 0, 0, 1, 0, 0]      28\n",
       "[0, 0, 1, 0, 0, 0]      25\n",
       "[1, 0, 0, 0, 1, 1]      25\n",
       "Name: count, dtype: int64"
      ]
     },
     "execution_count": 21,
     "metadata": {},
     "output_type": "execute_result"
    }
   ],
   "source": [
    "\n",
    "test_df.labels.value_counts()\n"
   ]
  },
  {
   "cell_type": "code",
   "execution_count": 22,
   "metadata": {
    "execution": {
     "iopub.execute_input": "2024-05-07T12:15:35.287085Z",
     "iopub.status.busy": "2024-05-07T12:15:35.286717Z",
     "iopub.status.idle": "2024-05-07T12:15:35.308945Z",
     "shell.execute_reply": "2024-05-07T12:15:35.307724Z",
     "shell.execute_reply.started": "2024-05-07T12:15:35.287059Z"
    }
   },
   "outputs": [
    {
     "data": {
      "text/plain": [
       "labels\n",
       "[0, 0, 0, 0, 0, 0]    8994\n",
       "[1, 0, 0, 0, 0, 0]    1143\n",
       "[1, 0, 1, 0, 1, 0]     766\n",
       "[1, 0, 1, 0, 0, 0]     337\n",
       "[1, 0, 0, 0, 1, 0]     233\n",
       "[1, 1, 1, 0, 1, 0]     202\n",
       "[1, 0, 1, 0, 1, 1]     118\n",
       "[1, 1, 1, 0, 1, 1]      56\n",
       "[1, 0, 0, 0, 0, 1]      32\n",
       "[1, 1, 1, 0, 0, 0]      29\n",
       "[1, 0, 0, 1, 0, 0]      28\n",
       "[0, 0, 1, 0, 0, 0]      25\n",
       "[1, 0, 0, 0, 1, 1]      25\n",
       "Name: count, dtype: int64"
      ]
     },
     "execution_count": 22,
     "metadata": {},
     "output_type": "execute_result"
    }
   ],
   "source": [
    "test_df.labels.value_counts()"
   ]
  },
  {
   "cell_type": "markdown",
   "metadata": {},
   "source": [
    "## Data from pandas to huggingface DatasetDict\n",
    "* This way data will be understandable for transformers"
   ]
  },
  {
   "cell_type": "code",
   "execution_count": 23,
   "metadata": {
    "execution": {
     "iopub.execute_input": "2024-05-07T12:15:35.311131Z",
     "iopub.status.busy": "2024-05-07T12:15:35.310595Z",
     "iopub.status.idle": "2024-05-07T12:15:35.651933Z",
     "shell.execute_reply": "2024-05-07T12:15:35.650844Z",
     "shell.execute_reply.started": "2024-05-07T12:15:35.311103Z"
    },
    "id": "5wkPCsQhYaiI"
   },
   "outputs": [],
   "source": [
    "train_dataset = Dataset.from_pandas(train_df)\n",
    "test_dataset = Dataset.from_pandas(test_df)"
   ]
  },
  {
   "cell_type": "code",
   "execution_count": 24,
   "metadata": {
    "execution": {
     "iopub.execute_input": "2024-05-07T12:15:35.653628Z",
     "iopub.status.busy": "2024-05-07T12:15:35.653258Z",
     "iopub.status.idle": "2024-05-07T12:15:35.658893Z",
     "shell.execute_reply": "2024-05-07T12:15:35.657874Z",
     "shell.execute_reply.started": "2024-05-07T12:15:35.653595Z"
    },
    "id": "0tyIy6C3YaiI"
   },
   "outputs": [],
   "source": [
    "dataset_dict = DatasetDict({\n",
    "  \"train\": train_dataset,\n",
    "  \"test\": test_dataset\n",
    "})"
   ]
  },
  {
   "cell_type": "markdown",
   "metadata": {},
   "source": [
    "### Drop of unussed collumns "
   ]
  },
  {
   "cell_type": "code",
   "execution_count": 25,
   "metadata": {
    "execution": {
     "iopub.execute_input": "2024-05-07T12:15:35.660426Z",
     "iopub.status.busy": "2024-05-07T12:15:35.660124Z",
     "iopub.status.idle": "2024-05-07T12:15:35.668710Z",
     "shell.execute_reply": "2024-05-07T12:15:35.667845Z",
     "shell.execute_reply.started": "2024-05-07T12:15:35.660402Z"
    },
    "id": "TDUxGqvaYaiJ"
   },
   "outputs": [
    {
     "data": {
      "text/plain": [
       "DatasetDict({\n",
       "    train: Dataset({\n",
       "        features: ['id', 'comment_text', 'toxic', 'severe_toxic', 'obscene', 'threat', 'insult', 'identity_hate', 'labels'],\n",
       "        num_rows: 48600\n",
       "    })\n",
       "    test: Dataset({\n",
       "        features: ['id', 'comment_text', 'toxic', 'severe_toxic', 'obscene', 'threat', 'insult', 'identity_hate', 'labels', '__index_level_0__'],\n",
       "        num_rows: 11988\n",
       "    })\n",
       "})"
      ]
     },
     "execution_count": 25,
     "metadata": {},
     "output_type": "execute_result"
    }
   ],
   "source": [
    "dataset_dict"
   ]
  },
  {
   "cell_type": "code",
   "execution_count": 28,
   "metadata": {
    "execution": {
     "iopub.execute_input": "2024-05-07T12:15:38.935884Z",
     "iopub.status.busy": "2024-05-07T12:15:38.935544Z",
     "iopub.status.idle": "2024-05-07T12:15:38.940472Z",
     "shell.execute_reply": "2024-05-07T12:15:38.939479Z",
     "shell.execute_reply.started": "2024-05-07T12:15:38.935859Z"
    },
    "id": "19a_1Z03YaiJ"
   },
   "outputs": [],
   "source": [
    "cols = dataset_dict[\"train\"].column_names\n",
    "cols.remove(\"labels\")\n",
    "\n"
   ]
  },
  {
   "cell_type": "code",
   "execution_count": 29,
   "metadata": {
    "execution": {
     "iopub.execute_input": "2024-05-07T12:15:38.942020Z",
     "iopub.status.busy": "2024-05-07T12:15:38.941719Z",
     "iopub.status.idle": "2024-05-07T12:15:38.949584Z",
     "shell.execute_reply": "2024-05-07T12:15:38.948624Z",
     "shell.execute_reply.started": "2024-05-07T12:15:38.941995Z"
    },
    "id": "gBlEks9hYaiJ"
   },
   "outputs": [
    {
     "data": {
      "text/plain": [
       "['id',\n",
       " 'comment_text',\n",
       " 'toxic',\n",
       " 'severe_toxic',\n",
       " 'obscene',\n",
       " 'threat',\n",
       " 'insult',\n",
       " 'identity_hate']"
      ]
     },
     "execution_count": 29,
     "metadata": {},
     "output_type": "execute_result"
    }
   ],
   "source": [
    "cols"
   ]
  },
  {
   "cell_type": "code",
   "execution_count": 32,
   "metadata": {
    "execution": {
     "iopub.execute_input": "2024-05-07T12:16:02.022495Z",
     "iopub.status.busy": "2024-05-07T12:16:02.022045Z",
     "iopub.status.idle": "2024-05-07T12:16:02.029397Z",
     "shell.execute_reply": "2024-05-07T12:16:02.028314Z",
     "shell.execute_reply.started": "2024-05-07T12:16:02.022462Z"
    },
    "id": "HlCfn_8zYaiK"
   },
   "outputs": [
    {
     "data": {
      "text/plain": [
       "DatasetDict({\n",
       "    train: Dataset({\n",
       "        features: ['labels', 'input_ids', 'attention_mask'],\n",
       "        num_rows: 48600\n",
       "    })\n",
       "    test: Dataset({\n",
       "        features: ['labels', '__index_level_0__', 'input_ids', 'attention_mask'],\n",
       "        num_rows: 11988\n",
       "    })\n",
       "})"
      ]
     },
     "execution_count": 32,
     "metadata": {},
     "output_type": "execute_result"
    }
   ],
   "source": [
    "dataset_dict"
   ]
  },
  {
   "cell_type": "markdown",
   "metadata": {},
   "source": [
    "## Model initialization, tokenization "
   ]
  },
  {
   "cell_type": "code",
   "execution_count": 26,
   "metadata": {
    "execution": {
     "iopub.execute_input": "2024-05-07T12:15:35.671860Z",
     "iopub.status.busy": "2024-05-07T12:15:35.669776Z",
     "iopub.status.idle": "2024-05-07T12:15:38.919511Z",
     "shell.execute_reply": "2024-05-07T12:15:38.918300Z",
     "shell.execute_reply.started": "2024-05-07T12:15:35.671827Z"
    },
    "id": "fOQ45yGnYaiJ",
    "scrolled": true
   },
   "outputs": [
    {
     "data": {
      "application/vnd.jupyter.widget-view+json": {
       "model_id": "ea8233337f7e406aaec8072d2bcd0cf4",
       "version_major": 2,
       "version_minor": 0
      },
      "text/plain": [
       "tokenizer_config.json:   0%|          | 0.00/48.0 [00:00<?, ?B/s]"
      ]
     },
     "metadata": {},
     "output_type": "display_data"
    },
    {
     "data": {
      "application/vnd.jupyter.widget-view+json": {
       "model_id": "a5613ccf99ad453c84d1cb289cb8d83e",
       "version_major": 2,
       "version_minor": 0
      },
      "text/plain": [
       "config.json:   0%|          | 0.00/483 [00:00<?, ?B/s]"
      ]
     },
     "metadata": {},
     "output_type": "display_data"
    },
    {
     "data": {
      "application/vnd.jupyter.widget-view+json": {
       "model_id": "d16efa66a1234682b0e6f5bab3944f39",
       "version_major": 2,
       "version_minor": 0
      },
      "text/plain": [
       "vocab.txt:   0%|          | 0.00/232k [00:00<?, ?B/s]"
      ]
     },
     "metadata": {},
     "output_type": "display_data"
    },
    {
     "data": {
      "application/vnd.jupyter.widget-view+json": {
       "model_id": "c413df3b557d4c16b11c9d8bb445f0b5",
       "version_major": 2,
       "version_minor": 0
      },
      "text/plain": [
       "tokenizer.json:   0%|          | 0.00/466k [00:00<?, ?B/s]"
      ]
     },
     "metadata": {},
     "output_type": "display_data"
    },
    {
     "data": {
      "application/vnd.jupyter.widget-view+json": {
       "model_id": "6e16cd7967d04393b1c9349bc36faa17",
       "version_major": 2,
       "version_minor": 0
      },
      "text/plain": [
       "model.safetensors:   0%|          | 0.00/268M [00:00<?, ?B/s]"
      ]
     },
     "metadata": {},
     "output_type": "display_data"
    },
    {
     "name": "stderr",
     "output_type": "stream",
     "text": [
      "Some weights of DistilBertForSequenceClassification were not initialized from the model checkpoint at distilbert-base-uncased and are newly initialized: ['classifier.bias', 'classifier.weight', 'pre_classifier.bias', 'pre_classifier.weight']\n",
      "You should probably TRAIN this model on a down-stream task to be able to use it for predictions and inference.\n"
     ]
    }
   ],
   "source": [
    "model_name = \"distilbert-base-uncased\"\n",
    "tokenizer = AutoTokenizer.from_pretrained(model_name)\n",
    "model = AutoModelForSequenceClassification.from_pretrained(model_name, num_labels=6,problem_type=\"multi_label_classification\").to('cuda')"
   ]
  },
  {
   "cell_type": "markdown",
   "metadata": {},
   "source": [
    "* **Model initialized:** Distilbert base uncased\n",
    "* **Tokenizer :**  AutoTokenizer from pretrained \"Distilbert base uncased\" model"
   ]
  },
  {
   "cell_type": "code",
   "execution_count": 27,
   "metadata": {
    "execution": {
     "iopub.execute_input": "2024-05-07T12:15:38.921348Z",
     "iopub.status.busy": "2024-05-07T12:15:38.920931Z",
     "iopub.status.idle": "2024-05-07T12:15:38.926439Z",
     "shell.execute_reply": "2024-05-07T12:15:38.925286Z",
     "shell.execute_reply.started": "2024-05-07T12:15:38.921312Z"
    },
    "id": "Dl2VjXgbYaiJ"
   },
   "outputs": [],
   "source": [
    "def tokenize_function(examples):\n",
    "    return tokenizer(examples[\"comment_text\"], truncation=True, padding=\"max_length\")"
   ]
  },
  {
   "cell_type": "markdown",
   "metadata": {},
   "source": [
    "* **Tokenization:** Convert text into word or subword units suitable for DistilBERT. This step breaks down text into meaningful units that the model can understand.\n",
    "* **Truncation :** The truncation=True parameter instructs the tokenizer to shorten sequences if they exceed a predefined maximum length. Max_lenght = 512 tokens. This step addresses the limitation of DistilBERT (All transformers), which can only process sequences up to a specific maximum length.\n",
    "* **Padding :** padding=\"max_length\" ensures all sequences are padded with special tokens to reach the same length (the maximum length encountered in the batch) for efficient batch processing by the model."
   ]
  },
  {
   "cell_type": "code",
   "execution_count": 31,
   "metadata": {
    "execution": {
     "iopub.execute_input": "2024-05-07T12:15:38.959067Z",
     "iopub.status.busy": "2024-05-07T12:15:38.958730Z",
     "iopub.status.idle": "2024-05-07T12:16:02.020827Z",
     "shell.execute_reply": "2024-05-07T12:16:02.019964Z",
     "shell.execute_reply.started": "2024-05-07T12:15:38.959035Z"
    },
    "id": "bgz-UV1cYaiK"
   },
   "outputs": [
    {
     "data": {
      "application/vnd.jupyter.widget-view+json": {
       "model_id": "2a753723b3e94c14a633342070b4c97f",
       "version_major": 2,
       "version_minor": 0
      },
      "text/plain": [
       "Map:   0%|          | 0/48600 [00:00<?, ? examples/s]"
      ]
     },
     "metadata": {},
     "output_type": "display_data"
    },
    {
     "data": {
      "application/vnd.jupyter.widget-view+json": {
       "model_id": "86531245d61142b9bbc17b46418ef7b9",
       "version_major": 2,
       "version_minor": 0
      },
      "text/plain": [
       "Map:   0%|          | 0/11988 [00:00<?, ? examples/s]"
      ]
     },
     "metadata": {},
     "output_type": "display_data"
    }
   ],
   "source": [
    "dataset_dict = dataset_dict.map(tokenize_function, batched=True,remove_columns=cols)"
   ]
  },
  {
   "cell_type": "code",
   "execution_count": 33,
   "metadata": {
    "execution": {
     "iopub.execute_input": "2024-05-07T12:16:02.031356Z",
     "iopub.status.busy": "2024-05-07T12:16:02.030723Z",
     "iopub.status.idle": "2024-05-07T12:16:26.741934Z",
     "shell.execute_reply": "2024-05-07T12:16:26.740951Z",
     "shell.execute_reply.started": "2024-05-07T12:16:02.031315Z"
    },
    "id": "7r0D3DrwYaiK"
   },
   "outputs": [
    {
     "data": {
      "application/vnd.jupyter.widget-view+json": {
       "model_id": "09e6cdb3ad5e4b96be6de665e806b64f",
       "version_major": 2,
       "version_minor": 0
      },
      "text/plain": [
       "Map:   0%|          | 0/48600 [00:00<?, ? examples/s]"
      ]
     },
     "metadata": {},
     "output_type": "display_data"
    },
    {
     "data": {
      "application/vnd.jupyter.widget-view+json": {
       "model_id": "8c47a4c733924cfe96fd6cf6913428c5",
       "version_major": 2,
       "version_minor": 0
      },
      "text/plain": [
       "Map:   0%|          | 0/11988 [00:00<?, ? examples/s]"
      ]
     },
     "metadata": {},
     "output_type": "display_data"
    }
   ],
   "source": [
    "dataset_dict.set_format(\"torch\")\n",
    "dataset_dict = (dataset_dict\n",
    "          .map(lambda x : {\"float_labels\": x[\"labels\"].to(torch.float)}, remove_columns=[\"labels\"])\n",
    "          .rename_column(\"float_labels\", \"labels\"))"
   ]
  },
  {
   "cell_type": "markdown",
   "metadata": {},
   "source": [
    "## Model Training"
   ]
  },
  {
   "cell_type": "markdown",
   "metadata": {},
   "source": [
    "### Training arguments "
   ]
  },
  {
   "cell_type": "code",
   "execution_count": 34,
   "metadata": {
    "execution": {
     "iopub.execute_input": "2024-05-07T12:16:26.743485Z",
     "iopub.status.busy": "2024-05-07T12:16:26.743089Z",
     "iopub.status.idle": "2024-05-07T12:16:26.748471Z",
     "shell.execute_reply": "2024-05-07T12:16:26.747387Z",
     "shell.execute_reply.started": "2024-05-07T12:16:26.743456Z"
    },
    "id": "MJzNWEpsYaiL"
   },
   "outputs": [],
   "source": [
    "lr = 8e-6\n",
    "bs = 32\n",
    "epochs = 10"
   ]
  },
  {
   "cell_type": "code",
   "execution_count": 35,
   "metadata": {
    "execution": {
     "iopub.execute_input": "2024-05-07T12:16:26.750682Z",
     "iopub.status.busy": "2024-05-07T12:16:26.750040Z",
     "iopub.status.idle": "2024-05-07T12:16:26.787334Z",
     "shell.execute_reply": "2024-05-07T12:16:26.786550Z",
     "shell.execute_reply.started": "2024-05-07T12:16:26.750655Z"
    },
    "id": "iJWaLvXcYaiL"
   },
   "outputs": [],
   "source": [
    "\n",
    "\n",
    "training_args = TrainingArguments(\n",
    "    output_dir=\"./results\",\n",
    "    learning_rate=lr,\n",
    "    lr_scheduler_type='cosine',\n",
    "    per_device_train_batch_size=bs,\n",
    "    per_device_eval_batch_size=bs*2,\n",
    "    num_train_epochs=epochs,\n",
    "    logging_steps=50,\n",
    "    fp16=True,\n",
    "    evaluation_strategy=\"epoch\",\n",
    "    load_best_model_at_end = True,\n",
    "    metric_for_best_model = 'roc_auc',\n",
    "    save_strategy = 'epoch',\n",
    "    weight_decay=0.1  ,\n",
    "    \n",
    "    \n",
    "\n",
    "\n",
    ")"
   ]
  },
  {
   "cell_type": "code",
   "execution_count": 36,
   "metadata": {
    "execution": {
     "iopub.execute_input": "2024-05-07T12:16:26.788715Z",
     "iopub.status.busy": "2024-05-07T12:16:26.788426Z",
     "iopub.status.idle": "2024-05-07T12:16:26.792740Z",
     "shell.execute_reply": "2024-05-07T12:16:26.791836Z",
     "shell.execute_reply.started": "2024-05-07T12:16:26.788684Z"
    },
    "id": "iV6O5H1ZYaiL"
   },
   "outputs": [],
   "source": [
    "all_preds = []\n",
    "all_labels = []"
   ]
  },
  {
   "cell_type": "markdown",
   "metadata": {},
   "source": [
    "### Trainer evaluation metrics"
   ]
  },
  {
   "cell_type": "code",
   "execution_count": 37,
   "metadata": {
    "execution": {
     "iopub.execute_input": "2024-05-07T12:16:26.794347Z",
     "iopub.status.busy": "2024-05-07T12:16:26.793990Z",
     "iopub.status.idle": "2024-05-07T12:16:26.804183Z",
     "shell.execute_reply": "2024-05-07T12:16:26.803225Z",
     "shell.execute_reply.started": "2024-05-07T12:16:26.794323Z"
    },
    "id": "ULudaDblYaiL"
   },
   "outputs": [],
   "source": [
    "\n",
    "def multi_labels_metrics(predictions, labels):\n",
    "    sigmoid = torch.nn.Sigmoid()\n",
    "    probs = sigmoid(torch.Tensor(predictions))\n",
    "\n",
    "    \n",
    "    \n",
    "    \n",
    "    \n",
    "    y_pred = np.zeros(probs.shape)\n",
    "    threshold = 0.5\n",
    "    y_pred[np.where(probs >= threshold)] = 1\n",
    "    y_true = labels\n",
    "\n",
    "    roc_auc = roc_auc_score(y_true, y_pred, average = 'weighted')\n",
    "    f1 = f1_score(y_true, y_pred, average='weighted')\n",
    "    hamming = hamming_loss(y_true, y_pred)\n",
    "\n",
    "    metrics = {\n",
    "        \"roc_auc\": roc_auc,\n",
    "        \"hamming_loss\": hamming,\n",
    "        \"f1\": f1\n",
    "    }\n",
    "    return metrics\n",
    "\n",
    "def compute_metrics(p:EvalPrediction):\n",
    "    preds = p.predictions[0] if isinstance(p.predictions, tuple) else p.predictions\n",
    "    predictions = preds  \n",
    "\n",
    "    all_preds.extend(predictions.tolist())  \n",
    "    all_labels.extend(p.label_ids.tolist())\n",
    "    result = multi_labels_metrics(predictions=preds,\n",
    "                                labels=p.label_ids)\n",
    "\n",
    "    return result"
   ]
  },
  {
   "cell_type": "markdown",
   "metadata": {},
   "source": [
    "## Trainer training and evaluation "
   ]
  },
  {
   "cell_type": "code",
   "execution_count": 39,
   "metadata": {
    "execution": {
     "iopub.execute_input": "2024-05-07T12:17:08.796722Z",
     "iopub.status.busy": "2024-05-07T12:17:08.796298Z",
     "iopub.status.idle": "2024-05-07T15:42:55.460910Z",
     "shell.execute_reply": "2024-05-07T15:42:55.459674Z",
     "shell.execute_reply.started": "2024-05-07T12:17:08.796689Z"
    }
   },
   "outputs": [
    {
     "name": "stderr",
     "output_type": "stream",
     "text": [
      "/opt/conda/lib/python3.10/site-packages/accelerate/accelerator.py:436: FutureWarning: Passing the following arguments to `Accelerator` is deprecated and will be removed in version 1.0 of Accelerate: dict_keys(['dispatch_batches', 'split_batches', 'even_batches', 'use_seedable_sampler']). Please pass an `accelerate.DataLoaderConfiguration` instead: \n",
      "dataloader_config = DataLoaderConfiguration(dispatch_batches=None, split_batches=False, even_batches=True, use_seedable_sampler=True)\n",
      "  warnings.warn(\n",
      "\u001b[34m\u001b[1mwandb\u001b[0m: Logging into wandb.ai. (Learn how to deploy a W&B server locally: https://wandb.me/wandb-server)\n",
      "\u001b[34m\u001b[1mwandb\u001b[0m: You can find your API key in your browser here: https://wandb.ai/authorize\n",
      "\u001b[34m\u001b[1mwandb\u001b[0m: Paste an API key from your profile and hit enter, or press ctrl+c to quit:"
     ]
    },
    {
     "name": "stdin",
     "output_type": "stream",
     "text": [
      "  ········································\n"
     ]
    },
    {
     "name": "stderr",
     "output_type": "stream",
     "text": [
      "\u001b[34m\u001b[1mwandb\u001b[0m: Appending key for api.wandb.ai to your netrc file: /root/.netrc\n"
     ]
    },
    {
     "data": {
      "text/html": [
       "Tracking run with wandb version 0.16.6"
      ],
      "text/plain": [
       "<IPython.core.display.HTML object>"
      ]
     },
     "metadata": {},
     "output_type": "display_data"
    },
    {
     "data": {
      "text/html": [
       "Run data is saved locally in <code>/kaggle/working/wandb/run-20240507_121714-ftzkxnr7</code>"
      ],
      "text/plain": [
       "<IPython.core.display.HTML object>"
      ]
     },
     "metadata": {},
     "output_type": "display_data"
    },
    {
     "data": {
      "text/html": [
       "Syncing run <strong><a href='https://wandb.ai/arturas-grygelis/huggingface/runs/ftzkxnr7' target=\"_blank\">worthy-forest-71</a></strong> to <a href='https://wandb.ai/arturas-grygelis/huggingface' target=\"_blank\">Weights & Biases</a> (<a href='https://wandb.me/run' target=\"_blank\">docs</a>)<br/>"
      ],
      "text/plain": [
       "<IPython.core.display.HTML object>"
      ]
     },
     "metadata": {},
     "output_type": "display_data"
    },
    {
     "data": {
      "text/html": [
       " View project at <a href='https://wandb.ai/arturas-grygelis/huggingface' target=\"_blank\">https://wandb.ai/arturas-grygelis/huggingface</a>"
      ],
      "text/plain": [
       "<IPython.core.display.HTML object>"
      ]
     },
     "metadata": {},
     "output_type": "display_data"
    },
    {
     "data": {
      "text/html": [
       " View run at <a href='https://wandb.ai/arturas-grygelis/huggingface/runs/ftzkxnr7' target=\"_blank\">https://wandb.ai/arturas-grygelis/huggingface/runs/ftzkxnr7</a>"
      ],
      "text/plain": [
       "<IPython.core.display.HTML object>"
      ]
     },
     "metadata": {},
     "output_type": "display_data"
    },
    {
     "name": "stderr",
     "output_type": "stream",
     "text": [
      "/opt/conda/lib/python3.10/site-packages/torch/nn/parallel/_functions.py:68: UserWarning: Was asked to gather along dimension 0, but all input tensors were scalars; will instead unsqueeze and return a vector.\n",
      "  warnings.warn('Was asked to gather along dimension 0, but all '\n"
     ]
    },
    {
     "data": {
      "text/html": [
       "\n",
       "    <div>\n",
       "      \n",
       "      <progress value='7600' max='7600' style='width:300px; height:20px; vertical-align: middle;'></progress>\n",
       "      [7600/7600 3:25:19, Epoch 10/10]\n",
       "    </div>\n",
       "    <table border=\"1\" class=\"dataframe\">\n",
       "  <thead>\n",
       " <tr style=\"text-align: left;\">\n",
       "      <th>Epoch</th>\n",
       "      <th>Training Loss</th>\n",
       "      <th>Validation Loss</th>\n",
       "      <th>Roc Auc</th>\n",
       "      <th>Hamming Loss</th>\n",
       "      <th>F1</th>\n",
       "      <th>Runtime</th>\n",
       "      <th>Samples Per Second</th>\n",
       "      <th>Steps Per Second</th>\n",
       "    </tr>\n",
       "  </thead>\n",
       "  <tbody>\n",
       "    <tr>\n",
       "      <td>1</td>\n",
       "      <td>0.095400</td>\n",
       "      <td>0.085086</td>\n",
       "      <td>0.887911</td>\n",
       "      <td>0.032658</td>\n",
       "      <td>0.791193</td>\n",
       "      <td>105.361700</td>\n",
       "      <td>113.779000</td>\n",
       "      <td>0.892000</td>\n",
       "    </tr>\n",
       "    <tr>\n",
       "      <td>2</td>\n",
       "      <td>0.085800</td>\n",
       "      <td>0.073163</td>\n",
       "      <td>0.900449</td>\n",
       "      <td>0.029099</td>\n",
       "      <td>0.827967</td>\n",
       "      <td>105.508500</td>\n",
       "      <td>113.621000</td>\n",
       "      <td>0.891000</td>\n",
       "    </tr>\n",
       "    <tr>\n",
       "      <td>3</td>\n",
       "      <td>0.071400</td>\n",
       "      <td>0.071572</td>\n",
       "      <td>0.906839</td>\n",
       "      <td>0.029516</td>\n",
       "      <td>0.832615</td>\n",
       "      <td>105.737200</td>\n",
       "      <td>113.375000</td>\n",
       "      <td>0.889000</td>\n",
       "    </tr>\n",
       "    <tr>\n",
       "      <td>4</td>\n",
       "      <td>0.065600</td>\n",
       "      <td>0.071948</td>\n",
       "      <td>0.908565</td>\n",
       "      <td>0.029474</td>\n",
       "      <td>0.832386</td>\n",
       "      <td>105.345100</td>\n",
       "      <td>113.797000</td>\n",
       "      <td>0.892000</td>\n",
       "    </tr>\n",
       "    <tr>\n",
       "      <td>5</td>\n",
       "      <td>0.061300</td>\n",
       "      <td>0.073653</td>\n",
       "      <td>0.910004</td>\n",
       "      <td>0.029988</td>\n",
       "      <td>0.832118</td>\n",
       "      <td>105.261100</td>\n",
       "      <td>113.888000</td>\n",
       "      <td>0.893000</td>\n",
       "    </tr>\n",
       "    <tr>\n",
       "      <td>6</td>\n",
       "      <td>0.060200</td>\n",
       "      <td>0.073496</td>\n",
       "      <td>0.905204</td>\n",
       "      <td>0.029905</td>\n",
       "      <td>0.831289</td>\n",
       "      <td>105.253900</td>\n",
       "      <td>113.896000</td>\n",
       "      <td>0.893000</td>\n",
       "    </tr>\n",
       "    <tr>\n",
       "      <td>7</td>\n",
       "      <td>0.058100</td>\n",
       "      <td>0.074671</td>\n",
       "      <td>0.904017</td>\n",
       "      <td>0.030252</td>\n",
       "      <td>0.828712</td>\n",
       "      <td>105.693900</td>\n",
       "      <td>113.422000</td>\n",
       "      <td>0.889000</td>\n",
       "    </tr>\n",
       "    <tr>\n",
       "      <td>8</td>\n",
       "      <td>0.049600</td>\n",
       "      <td>0.076127</td>\n",
       "      <td>0.901430</td>\n",
       "      <td>0.029696</td>\n",
       "      <td>0.830304</td>\n",
       "      <td>105.893800</td>\n",
       "      <td>113.208000</td>\n",
       "      <td>0.888000</td>\n",
       "    </tr>\n",
       "    <tr>\n",
       "      <td>9</td>\n",
       "      <td>0.045200</td>\n",
       "      <td>0.076532</td>\n",
       "      <td>0.905785</td>\n",
       "      <td>0.030433</td>\n",
       "      <td>0.830102</td>\n",
       "      <td>105.297600</td>\n",
       "      <td>113.849000</td>\n",
       "      <td>0.893000</td>\n",
       "    </tr>\n",
       "    <tr>\n",
       "      <td>10</td>\n",
       "      <td>0.053600</td>\n",
       "      <td>0.076423</td>\n",
       "      <td>0.904493</td>\n",
       "      <td>0.030252</td>\n",
       "      <td>0.830111</td>\n",
       "      <td>105.485500</td>\n",
       "      <td>113.646000</td>\n",
       "      <td>0.891000</td>\n",
       "    </tr>\n",
       "  </tbody>\n",
       "</table><p>"
      ],
      "text/plain": [
       "<IPython.core.display.HTML object>"
      ]
     },
     "metadata": {},
     "output_type": "display_data"
    },
    {
     "name": "stderr",
     "output_type": "stream",
     "text": [
      "/opt/conda/lib/python3.10/site-packages/torch/nn/parallel/_functions.py:68: UserWarning: Was asked to gather along dimension 0, but all input tensors were scalars; will instead unsqueeze and return a vector.\n",
      "  warnings.warn('Was asked to gather along dimension 0, but all '\n",
      "/opt/conda/lib/python3.10/site-packages/torch/nn/parallel/_functions.py:68: UserWarning: Was asked to gather along dimension 0, but all input tensors were scalars; will instead unsqueeze and return a vector.\n",
      "  warnings.warn('Was asked to gather along dimension 0, but all '\n",
      "/opt/conda/lib/python3.10/site-packages/torch/nn/parallel/_functions.py:68: UserWarning: Was asked to gather along dimension 0, but all input tensors were scalars; will instead unsqueeze and return a vector.\n",
      "  warnings.warn('Was asked to gather along dimension 0, but all '\n",
      "/opt/conda/lib/python3.10/site-packages/torch/nn/parallel/_functions.py:68: UserWarning: Was asked to gather along dimension 0, but all input tensors were scalars; will instead unsqueeze and return a vector.\n",
      "  warnings.warn('Was asked to gather along dimension 0, but all '\n",
      "/opt/conda/lib/python3.10/site-packages/torch/nn/parallel/_functions.py:68: UserWarning: Was asked to gather along dimension 0, but all input tensors were scalars; will instead unsqueeze and return a vector.\n",
      "  warnings.warn('Was asked to gather along dimension 0, but all '\n",
      "/opt/conda/lib/python3.10/site-packages/torch/nn/parallel/_functions.py:68: UserWarning: Was asked to gather along dimension 0, but all input tensors were scalars; will instead unsqueeze and return a vector.\n",
      "  warnings.warn('Was asked to gather along dimension 0, but all '\n",
      "/opt/conda/lib/python3.10/site-packages/torch/nn/parallel/_functions.py:68: UserWarning: Was asked to gather along dimension 0, but all input tensors were scalars; will instead unsqueeze and return a vector.\n",
      "  warnings.warn('Was asked to gather along dimension 0, but all '\n",
      "/opt/conda/lib/python3.10/site-packages/torch/nn/parallel/_functions.py:68: UserWarning: Was asked to gather along dimension 0, but all input tensors were scalars; will instead unsqueeze and return a vector.\n",
      "  warnings.warn('Was asked to gather along dimension 0, but all '\n",
      "/opt/conda/lib/python3.10/site-packages/torch/nn/parallel/_functions.py:68: UserWarning: Was asked to gather along dimension 0, but all input tensors were scalars; will instead unsqueeze and return a vector.\n",
      "  warnings.warn('Was asked to gather along dimension 0, but all '\n"
     ]
    },
    {
     "data": {
      "text/plain": [
       "TrainOutput(global_step=7600, training_loss=0.07228782076584665, metrics={'train_runtime': 12345.7453, 'train_samples_per_second': 39.366, 'train_steps_per_second': 0.616, 'total_flos': 6.4383748190208e+16, 'train_loss': 0.07228782076584665, 'epoch': 10.0})"
      ]
     },
     "execution_count": 39,
     "metadata": {},
     "output_type": "execute_result"
    }
   ],
   "source": [
    "trainer = Trainer(\n",
    "    model=model,\n",
    "    args=training_args,\n",
    "    train_dataset=dataset_dict[\"train\"],\n",
    "    eval_dataset=dataset_dict[\"test\"],\n",
    "    compute_metrics=compute_metrics,\n",
    "    tokenizer=tokenizer,\n",
    ")\n",
    "\n",
    "trainer.train()"
   ]
  },
  {
   "cell_type": "code",
   "execution_count": 40,
   "metadata": {
    "execution": {
     "iopub.execute_input": "2024-05-07T15:42:55.465473Z",
     "iopub.status.busy": "2024-05-07T15:42:55.465173Z",
     "iopub.status.idle": "2024-05-07T15:44:40.880790Z",
     "shell.execute_reply": "2024-05-07T15:44:40.879566Z",
     "shell.execute_reply.started": "2024-05-07T15:42:55.465446Z"
    },
    "id": "k3kb2IKdYaiU"
   },
   "outputs": [
    {
     "name": "stderr",
     "output_type": "stream",
     "text": [
      "/opt/conda/lib/python3.10/site-packages/torch/nn/parallel/_functions.py:68: UserWarning: Was asked to gather along dimension 0, but all input tensors were scalars; will instead unsqueeze and return a vector.\n",
      "  warnings.warn('Was asked to gather along dimension 0, but all '\n"
     ]
    },
    {
     "data": {
      "text/html": [],
      "text/plain": [
       "<IPython.core.display.HTML object>"
      ]
     },
     "metadata": {},
     "output_type": "display_data"
    },
    {
     "data": {
      "text/plain": [
       "{'eval_loss': 0.07365307211875916,\n",
       " 'eval_roc_auc': 0.9100044034056056,\n",
       " 'eval_hamming_loss': 0.029988321654988322,\n",
       " 'eval_f1': 0.8321184187496125,\n",
       " 'eval_runtime': 105.4005,\n",
       " 'eval_samples_per_second': 113.738,\n",
       " 'eval_steps_per_second': 0.892,\n",
       " 'epoch': 10.0}"
      ]
     },
     "execution_count": 40,
     "metadata": {},
     "output_type": "execute_result"
    }
   ],
   "source": [
    "trainer.evaluate()"
   ]
  },
  {
   "cell_type": "code",
   "execution_count": 41,
   "metadata": {
    "execution": {
     "iopub.execute_input": "2024-05-07T15:44:40.883749Z",
     "iopub.status.busy": "2024-05-07T15:44:40.883284Z",
     "iopub.status.idle": "2024-05-07T15:44:41.027869Z",
     "shell.execute_reply": "2024-05-07T15:44:41.026670Z",
     "shell.execute_reply.started": "2024-05-07T15:44:40.883705Z"
    },
    "id": "Zz89JCAXYaiU"
   },
   "outputs": [],
   "source": [
    "threshold = 0.5\n",
    "sigmoid = torch.nn.Sigmoid()\n",
    "probs = sigmoid(torch.Tensor(all_preds))\n",
    "\n",
    "y_pred = np.zeros(probs.shape)\n",
    "y_pred[np.where(probs>=threshold)] = 1"
   ]
  },
  {
   "cell_type": "code",
   "execution_count": null,
   "metadata": {},
   "outputs": [],
   "source": []
  },
  {
   "cell_type": "code",
   "execution_count": 42,
   "metadata": {
    "execution": {
     "iopub.execute_input": "2024-05-07T15:44:41.031515Z",
     "iopub.status.busy": "2024-05-07T15:44:41.030963Z",
     "iopub.status.idle": "2024-05-07T15:44:41.420988Z",
     "shell.execute_reply": "2024-05-07T15:44:41.418839Z",
     "shell.execute_reply.started": "2024-05-07T15:44:41.031478Z"
    },
    "id": "GHHpFVvuYaiU"
   },
   "outputs": [
    {
     "name": "stdout",
     "output_type": "stream",
     "text": [
      "              precision    recall  f1-score   support\n",
      "\n",
      "           0       0.89      0.91      0.90     32659\n",
      "           1       0.58      0.35      0.44      3157\n",
      "           2       0.84      0.88      0.86     16863\n",
      "           3       0.44      0.42      0.43       308\n",
      "           4       0.75      0.82      0.78     15400\n",
      "           5       0.62      0.46      0.53      2541\n",
      "\n",
      "   micro avg       0.83      0.84      0.83     70928\n",
      "   macro avg       0.69      0.64      0.66     70928\n",
      "weighted avg       0.82      0.84      0.83     70928\n",
      " samples avg       0.20      0.21      0.20     70928\n",
      "\n"
     ]
    },
    {
     "name": "stderr",
     "output_type": "stream",
     "text": [
      "/opt/conda/lib/python3.10/site-packages/sklearn/metrics/_classification.py:1344: UndefinedMetricWarning: Precision and F-score are ill-defined and being set to 0.0 in samples with no predicted labels. Use `zero_division` parameter to control this behavior.\n",
      "  _warn_prf(average, modifier, msg_start, len(result))\n",
      "/opt/conda/lib/python3.10/site-packages/sklearn/metrics/_classification.py:1344: UndefinedMetricWarning: Recall and F-score are ill-defined and being set to 0.0 in samples with no true labels. Use `zero_division` parameter to control this behavior.\n",
      "  _warn_prf(average, modifier, msg_start, len(result))\n"
     ]
    }
   ],
   "source": [
    "from sklearn.metrics import classification_report, confusion_matrix\n",
    "import torch.nn as nn\n",
    "\n",
    "\n",
    "print(classification_report(all_labels, y_pred))\n"
   ]
  },
  {
   "cell_type": "markdown",
   "metadata": {},
   "source": [
    "### Trainer predictions on validation set"
   ]
  },
  {
   "cell_type": "code",
   "execution_count": 43,
   "metadata": {
    "execution": {
     "iopub.execute_input": "2024-05-07T15:44:41.425216Z",
     "iopub.status.busy": "2024-05-07T15:44:41.424840Z",
     "iopub.status.idle": "2024-05-07T15:44:43.532208Z",
     "shell.execute_reply": "2024-05-07T15:44:43.530979Z",
     "shell.execute_reply.started": "2024-05-07T15:44:41.425187Z"
    },
    "id": "5HLLQwD3YaiU"
   },
   "outputs": [
    {
     "data": {
      "image/png": "[encoded data removed]",
      "text/plain": [
       "<Figure size 2500x1500 with 7 Axes>"
      ]
     },
     "metadata": {},
     "output_type": "display_data"
    }
   ],
   "source": [
    "np_all_labels = np.array(all_labels)\n",
    "np_y_pred = np.array(y_pred)\n",
    "\n",
    "f, axes = plt.subplots(2, 3, figsize=(25, 15))\n",
    "axes = axes.ravel()\n",
    "\n",
    "\n",
    "class_names = ['toxic','severe_toxic','obscene','threat','insult','identity_hate']\n",
    "\n",
    "for i, class_name in enumerate(class_names):\n",
    "    cm = confusion_matrix(np_all_labels[:, i], np_y_pred[:, i])\n",
    "\n",
    "\n",
    "    cm_normalized = cm.astype('float') / cm.sum(axis=1, keepdims=True)\n",
    "\n",
    "    disp = ConfusionMatrixDisplay(cm_normalized, display_labels=[0, 1])\n",
    "    disp.plot(ax=axes[i], values_format='.4g')\n",
    "    disp.ax_.set_title(f'Class: {class_name}')\n",
    "    if i < 3:\n",
    "        disp.ax_.set_xlabel('')\n",
    "    if i % 3 != 0:\n",
    "        disp.ax_.set_ylabel('')\n",
    "    disp.im_.colorbar.remove()\n",
    "\n",
    "plt.subplots_adjust(wspace=0.10, hspace=0.1)\n",
    "f.colorbar(disp.im_, ax=axes)\n",
    "plt.show()"
   ]
  },
  {
   "cell_type": "markdown",
   "metadata": {
    "id": "ggB3-BiNYaiV"
   },
   "source": [
    "# Model testing"
   ]
  },
  {
   "cell_type": "markdown",
   "metadata": {},
   "source": [
    "## Test dataset preprocessing"
   ]
  },
  {
   "cell_type": "code",
   "execution_count": 44,
   "metadata": {
    "execution": {
     "iopub.execute_input": "2024-05-07T15:44:43.533830Z",
     "iopub.status.busy": "2024-05-07T15:44:43.533546Z",
     "iopub.status.idle": "2024-05-07T15:44:44.439177Z",
     "shell.execute_reply": "2024-05-07T15:44:44.438099Z",
     "shell.execute_reply.started": "2024-05-07T15:44:43.533805Z"
    },
    "id": "nS6klZntYaiV"
   },
   "outputs": [],
   "source": [
    "df_test = pd.read_csv(r'/kaggle/working/extracted_files/test.csv')"
   ]
  },
  {
   "cell_type": "code",
   "execution_count": 45,
   "metadata": {
    "execution": {
     "iopub.execute_input": "2024-05-07T15:44:44.441231Z",
     "iopub.status.busy": "2024-05-07T15:44:44.440792Z",
     "iopub.status.idle": "2024-05-07T15:44:44.456639Z",
     "shell.execute_reply": "2024-05-07T15:44:44.454768Z",
     "shell.execute_reply.started": "2024-05-07T15:44:44.441194Z"
    },
    "id": "abYOFhOCYaiV"
   },
   "outputs": [
    {
     "data": {
      "text/html": [
       "<div>\n",
       "<style scoped>\n",
       "    .dataframe tbody tr th:only-of-type {\n",
       "        vertical-align: middle;\n",
       "    }\n",
       "\n",
       "    .dataframe tbody tr th {\n",
       "        vertical-align: top;\n",
       "    }\n",
       "\n",
       "    .dataframe thead th {\n",
       "        text-align: right;\n",
       "    }\n",
       "</style>\n",
       "<table border=\"1\" class=\"dataframe\">\n",
       "  <thead>\n",
       "    <tr style=\"text-align: right;\">\n",
       "      <th></th>\n",
       "      <th>id</th>\n",
       "      <th>comment_text</th>\n",
       "    </tr>\n",
       "  </thead>\n",
       "  <tbody>\n",
       "    <tr>\n",
       "      <th>0</th>\n",
       "      <td>00001cee341fdb12</td>\n",
       "      <td>Yo bitch Ja Rule is more succesful then you'll...</td>\n",
       "    </tr>\n",
       "    <tr>\n",
       "      <th>1</th>\n",
       "      <td>0000247867823ef7</td>\n",
       "      <td>== From RfC == \\n\\n The title is fine as it is...</td>\n",
       "    </tr>\n",
       "    <tr>\n",
       "      <th>2</th>\n",
       "      <td>00013b17ad220c46</td>\n",
       "      <td>\" \\n\\n == Sources == \\n\\n * Zawe Ashton on Lap...</td>\n",
       "    </tr>\n",
       "    <tr>\n",
       "      <th>3</th>\n",
       "      <td>00017563c3f7919a</td>\n",
       "      <td>:If you have a look back at the source, the in...</td>\n",
       "    </tr>\n",
       "    <tr>\n",
       "      <th>4</th>\n",
       "      <td>00017695ad8997eb</td>\n",
       "      <td>I don't anonymously edit articles at all.</td>\n",
       "    </tr>\n",
       "    <tr>\n",
       "      <th>...</th>\n",
       "      <td>...</td>\n",
       "      <td>...</td>\n",
       "    </tr>\n",
       "    <tr>\n",
       "      <th>153159</th>\n",
       "      <td>fffcd0960ee309b5</td>\n",
       "      <td>. \\n i totally agree, this stuff is nothing bu...</td>\n",
       "    </tr>\n",
       "    <tr>\n",
       "      <th>153160</th>\n",
       "      <td>fffd7a9a6eb32c16</td>\n",
       "      <td>== Throw from out field to home plate. == \\n\\n...</td>\n",
       "    </tr>\n",
       "    <tr>\n",
       "      <th>153161</th>\n",
       "      <td>fffda9e8d6fafa9e</td>\n",
       "      <td>\" \\n\\n == Okinotorishima categories == \\n\\n I ...</td>\n",
       "    </tr>\n",
       "    <tr>\n",
       "      <th>153162</th>\n",
       "      <td>fffe8f1340a79fc2</td>\n",
       "      <td>\" \\n\\n == \"\"One of the founding nations of the...</td>\n",
       "    </tr>\n",
       "    <tr>\n",
       "      <th>153163</th>\n",
       "      <td>ffffce3fb183ee80</td>\n",
       "      <td>\" \\n :::Stop already. Your bullshit is not wel...</td>\n",
       "    </tr>\n",
       "  </tbody>\n",
       "</table>\n",
       "<p>153164 rows × 2 columns</p>\n",
       "</div>"
      ],
      "text/plain": [
       "                      id                                       comment_text\n",
       "0       00001cee341fdb12  Yo bitch Ja Rule is more succesful then you'll...\n",
       "1       0000247867823ef7  == From RfC == \\n\\n The title is fine as it is...\n",
       "2       00013b17ad220c46  \" \\n\\n == Sources == \\n\\n * Zawe Ashton on Lap...\n",
       "3       00017563c3f7919a  :If you have a look back at the source, the in...\n",
       "4       00017695ad8997eb          I don't anonymously edit articles at all.\n",
       "...                  ...                                                ...\n",
       "153159  fffcd0960ee309b5  . \\n i totally agree, this stuff is nothing bu...\n",
       "153160  fffd7a9a6eb32c16  == Throw from out field to home plate. == \\n\\n...\n",
       "153161  fffda9e8d6fafa9e  \" \\n\\n == Okinotorishima categories == \\n\\n I ...\n",
       "153162  fffe8f1340a79fc2  \" \\n\\n == \"\"One of the founding nations of the...\n",
       "153163  ffffce3fb183ee80  \" \\n :::Stop already. Your bullshit is not wel...\n",
       "\n",
       "[153164 rows x 2 columns]"
      ]
     },
     "execution_count": 45,
     "metadata": {},
     "output_type": "execute_result"
    }
   ],
   "source": [
    "df_test"
   ]
  },
  {
   "cell_type": "markdown",
   "metadata": {},
   "source": [
    "* Test dataset is made out of 153164 records"
   ]
  },
  {
   "cell_type": "code",
   "execution_count": 46,
   "metadata": {
    "execution": {
     "iopub.execute_input": "2024-05-07T15:44:44.458795Z",
     "iopub.status.busy": "2024-05-07T15:44:44.458462Z",
     "iopub.status.idle": "2024-05-07T15:44:44.634284Z",
     "shell.execute_reply": "2024-05-07T15:44:44.633124Z",
     "shell.execute_reply.started": "2024-05-07T15:44:44.458770Z"
    },
    "id": "ifKjKDrxYaiV"
   },
   "outputs": [],
   "source": [
    "df_test_labels = pd.read_csv(r'/kaggle/working/extracted_files/test_labels.csv')"
   ]
  },
  {
   "cell_type": "code",
   "execution_count": 47,
   "metadata": {
    "execution": {
     "iopub.execute_input": "2024-05-07T15:44:44.636107Z",
     "iopub.status.busy": "2024-05-07T15:44:44.635740Z",
     "iopub.status.idle": "2024-05-07T15:44:44.653101Z",
     "shell.execute_reply": "2024-05-07T15:44:44.651683Z",
     "shell.execute_reply.started": "2024-05-07T15:44:44.636074Z"
    },
    "id": "WaTggD7rYaiV"
   },
   "outputs": [
    {
     "data": {
      "text/html": [
       "<div>\n",
       "<style scoped>\n",
       "    .dataframe tbody tr th:only-of-type {\n",
       "        vertical-align: middle;\n",
       "    }\n",
       "\n",
       "    .dataframe tbody tr th {\n",
       "        vertical-align: top;\n",
       "    }\n",
       "\n",
       "    .dataframe thead th {\n",
       "        text-align: right;\n",
       "    }\n",
       "</style>\n",
       "<table border=\"1\" class=\"dataframe\">\n",
       "  <thead>\n",
       "    <tr style=\"text-align: right;\">\n",
       "      <th></th>\n",
       "      <th>id</th>\n",
       "      <th>toxic</th>\n",
       "      <th>severe_toxic</th>\n",
       "      <th>obscene</th>\n",
       "      <th>threat</th>\n",
       "      <th>insult</th>\n",
       "      <th>identity_hate</th>\n",
       "    </tr>\n",
       "  </thead>\n",
       "  <tbody>\n",
       "    <tr>\n",
       "      <th>0</th>\n",
       "      <td>00001cee341fdb12</td>\n",
       "      <td>-1</td>\n",
       "      <td>-1</td>\n",
       "      <td>-1</td>\n",
       "      <td>-1</td>\n",
       "      <td>-1</td>\n",
       "      <td>-1</td>\n",
       "    </tr>\n",
       "    <tr>\n",
       "      <th>1</th>\n",
       "      <td>0000247867823ef7</td>\n",
       "      <td>-1</td>\n",
       "      <td>-1</td>\n",
       "      <td>-1</td>\n",
       "      <td>-1</td>\n",
       "      <td>-1</td>\n",
       "      <td>-1</td>\n",
       "    </tr>\n",
       "    <tr>\n",
       "      <th>2</th>\n",
       "      <td>00013b17ad220c46</td>\n",
       "      <td>-1</td>\n",
       "      <td>-1</td>\n",
       "      <td>-1</td>\n",
       "      <td>-1</td>\n",
       "      <td>-1</td>\n",
       "      <td>-1</td>\n",
       "    </tr>\n",
       "    <tr>\n",
       "      <th>3</th>\n",
       "      <td>00017563c3f7919a</td>\n",
       "      <td>-1</td>\n",
       "      <td>-1</td>\n",
       "      <td>-1</td>\n",
       "      <td>-1</td>\n",
       "      <td>-1</td>\n",
       "      <td>-1</td>\n",
       "    </tr>\n",
       "    <tr>\n",
       "      <th>4</th>\n",
       "      <td>00017695ad8997eb</td>\n",
       "      <td>-1</td>\n",
       "      <td>-1</td>\n",
       "      <td>-1</td>\n",
       "      <td>-1</td>\n",
       "      <td>-1</td>\n",
       "      <td>-1</td>\n",
       "    </tr>\n",
       "    <tr>\n",
       "      <th>...</th>\n",
       "      <td>...</td>\n",
       "      <td>...</td>\n",
       "      <td>...</td>\n",
       "      <td>...</td>\n",
       "      <td>...</td>\n",
       "      <td>...</td>\n",
       "      <td>...</td>\n",
       "    </tr>\n",
       "    <tr>\n",
       "      <th>153159</th>\n",
       "      <td>fffcd0960ee309b5</td>\n",
       "      <td>-1</td>\n",
       "      <td>-1</td>\n",
       "      <td>-1</td>\n",
       "      <td>-1</td>\n",
       "      <td>-1</td>\n",
       "      <td>-1</td>\n",
       "    </tr>\n",
       "    <tr>\n",
       "      <th>153160</th>\n",
       "      <td>fffd7a9a6eb32c16</td>\n",
       "      <td>-1</td>\n",
       "      <td>-1</td>\n",
       "      <td>-1</td>\n",
       "      <td>-1</td>\n",
       "      <td>-1</td>\n",
       "      <td>-1</td>\n",
       "    </tr>\n",
       "    <tr>\n",
       "      <th>153161</th>\n",
       "      <td>fffda9e8d6fafa9e</td>\n",
       "      <td>-1</td>\n",
       "      <td>-1</td>\n",
       "      <td>-1</td>\n",
       "      <td>-1</td>\n",
       "      <td>-1</td>\n",
       "      <td>-1</td>\n",
       "    </tr>\n",
       "    <tr>\n",
       "      <th>153162</th>\n",
       "      <td>fffe8f1340a79fc2</td>\n",
       "      <td>-1</td>\n",
       "      <td>-1</td>\n",
       "      <td>-1</td>\n",
       "      <td>-1</td>\n",
       "      <td>-1</td>\n",
       "      <td>-1</td>\n",
       "    </tr>\n",
       "    <tr>\n",
       "      <th>153163</th>\n",
       "      <td>ffffce3fb183ee80</td>\n",
       "      <td>-1</td>\n",
       "      <td>-1</td>\n",
       "      <td>-1</td>\n",
       "      <td>-1</td>\n",
       "      <td>-1</td>\n",
       "      <td>-1</td>\n",
       "    </tr>\n",
       "  </tbody>\n",
       "</table>\n",
       "<p>153164 rows × 7 columns</p>\n",
       "</div>"
      ],
      "text/plain": [
       "                      id  toxic  severe_toxic  obscene  threat  insult  \\\n",
       "0       00001cee341fdb12     -1            -1       -1      -1      -1   \n",
       "1       0000247867823ef7     -1            -1       -1      -1      -1   \n",
       "2       00013b17ad220c46     -1            -1       -1      -1      -1   \n",
       "3       00017563c3f7919a     -1            -1       -1      -1      -1   \n",
       "4       00017695ad8997eb     -1            -1       -1      -1      -1   \n",
       "...                  ...    ...           ...      ...     ...     ...   \n",
       "153159  fffcd0960ee309b5     -1            -1       -1      -1      -1   \n",
       "153160  fffd7a9a6eb32c16     -1            -1       -1      -1      -1   \n",
       "153161  fffda9e8d6fafa9e     -1            -1       -1      -1      -1   \n",
       "153162  fffe8f1340a79fc2     -1            -1       -1      -1      -1   \n",
       "153163  ffffce3fb183ee80     -1            -1       -1      -1      -1   \n",
       "\n",
       "        identity_hate  \n",
       "0                  -1  \n",
       "1                  -1  \n",
       "2                  -1  \n",
       "3                  -1  \n",
       "4                  -1  \n",
       "...               ...  \n",
       "153159             -1  \n",
       "153160             -1  \n",
       "153161             -1  \n",
       "153162             -1  \n",
       "153163             -1  \n",
       "\n",
       "[153164 rows x 7 columns]"
      ]
     },
     "execution_count": 47,
     "metadata": {},
     "output_type": "execute_result"
    }
   ],
   "source": [
    "df_test_labels"
   ]
  },
  {
   "cell_type": "code",
   "execution_count": 48,
   "metadata": {
    "execution": {
     "iopub.execute_input": "2024-05-07T15:44:44.659492Z",
     "iopub.status.busy": "2024-05-07T15:44:44.659038Z",
     "iopub.status.idle": "2024-05-07T15:44:44.671762Z",
     "shell.execute_reply": "2024-05-07T15:44:44.670786Z",
     "shell.execute_reply.started": "2024-05-07T15:44:44.659465Z"
    },
    "id": "L82OjJzEYaiW"
   },
   "outputs": [
    {
     "data": {
      "text/plain": [
       "toxic\n",
       "-1    89186\n",
       " 0    57888\n",
       " 1     6090\n",
       "Name: count, dtype: int64"
      ]
     },
     "execution_count": 48,
     "metadata": {},
     "output_type": "execute_result"
    }
   ],
   "source": [
    "df_test_labels.toxic.value_counts()"
   ]
  },
  {
   "cell_type": "code",
   "execution_count": 49,
   "metadata": {
    "execution": {
     "iopub.execute_input": "2024-05-07T15:44:44.673742Z",
     "iopub.status.busy": "2024-05-07T15:44:44.673357Z",
     "iopub.status.idle": "2024-05-07T15:44:44.747938Z",
     "shell.execute_reply": "2024-05-07T15:44:44.746535Z",
     "shell.execute_reply.started": "2024-05-07T15:44:44.673699Z"
    },
    "id": "-GpxL1ciYaiW"
   },
   "outputs": [],
   "source": [
    "merged_test_df = pd.merge(df_test, df_test_labels, on='id')"
   ]
  },
  {
   "cell_type": "code",
   "execution_count": 50,
   "metadata": {
    "execution": {
     "iopub.execute_input": "2024-05-07T15:44:44.750847Z",
     "iopub.status.busy": "2024-05-07T15:44:44.750419Z",
     "iopub.status.idle": "2024-05-07T15:44:44.769351Z",
     "shell.execute_reply": "2024-05-07T15:44:44.768040Z",
     "shell.execute_reply.started": "2024-05-07T15:44:44.750809Z"
    },
    "id": "6xTqOdoFYaiW"
   },
   "outputs": [],
   "source": [
    "merged_test_df = merged_test_df[merged_test_df['toxic'] != -1]"
   ]
  },
  {
   "cell_type": "code",
   "execution_count": 51,
   "metadata": {
    "execution": {
     "iopub.execute_input": "2024-05-07T15:44:44.771806Z",
     "iopub.status.busy": "2024-05-07T15:44:44.770969Z",
     "iopub.status.idle": "2024-05-07T15:44:44.789109Z",
     "shell.execute_reply": "2024-05-07T15:44:44.788046Z",
     "shell.execute_reply.started": "2024-05-07T15:44:44.771770Z"
    },
    "id": "Edvp3uEsYaiW"
   },
   "outputs": [
    {
     "data": {
      "text/html": [
       "<div>\n",
       "<style scoped>\n",
       "    .dataframe tbody tr th:only-of-type {\n",
       "        vertical-align: middle;\n",
       "    }\n",
       "\n",
       "    .dataframe tbody tr th {\n",
       "        vertical-align: top;\n",
       "    }\n",
       "\n",
       "    .dataframe thead th {\n",
       "        text-align: right;\n",
       "    }\n",
       "</style>\n",
       "<table border=\"1\" class=\"dataframe\">\n",
       "  <thead>\n",
       "    <tr style=\"text-align: right;\">\n",
       "      <th></th>\n",
       "      <th>id</th>\n",
       "      <th>comment_text</th>\n",
       "      <th>toxic</th>\n",
       "      <th>severe_toxic</th>\n",
       "      <th>obscene</th>\n",
       "      <th>threat</th>\n",
       "      <th>insult</th>\n",
       "      <th>identity_hate</th>\n",
       "    </tr>\n",
       "  </thead>\n",
       "  <tbody>\n",
       "    <tr>\n",
       "      <th>5</th>\n",
       "      <td>0001ea8717f6de06</td>\n",
       "      <td>Thank you for understanding. I think very high...</td>\n",
       "      <td>0</td>\n",
       "      <td>0</td>\n",
       "      <td>0</td>\n",
       "      <td>0</td>\n",
       "      <td>0</td>\n",
       "      <td>0</td>\n",
       "    </tr>\n",
       "    <tr>\n",
       "      <th>7</th>\n",
       "      <td>000247e83dcc1211</td>\n",
       "      <td>:Dear god this site is horrible.</td>\n",
       "      <td>0</td>\n",
       "      <td>0</td>\n",
       "      <td>0</td>\n",
       "      <td>0</td>\n",
       "      <td>0</td>\n",
       "      <td>0</td>\n",
       "    </tr>\n",
       "    <tr>\n",
       "      <th>11</th>\n",
       "      <td>0002f87b16116a7f</td>\n",
       "      <td>\"::: Somebody will invariably try to add Relig...</td>\n",
       "      <td>0</td>\n",
       "      <td>0</td>\n",
       "      <td>0</td>\n",
       "      <td>0</td>\n",
       "      <td>0</td>\n",
       "      <td>0</td>\n",
       "    </tr>\n",
       "    <tr>\n",
       "      <th>13</th>\n",
       "      <td>0003e1cccfd5a40a</td>\n",
       "      <td>\" \\n\\n It says it right there that it IS a typ...</td>\n",
       "      <td>0</td>\n",
       "      <td>0</td>\n",
       "      <td>0</td>\n",
       "      <td>0</td>\n",
       "      <td>0</td>\n",
       "      <td>0</td>\n",
       "    </tr>\n",
       "    <tr>\n",
       "      <th>14</th>\n",
       "      <td>00059ace3e3e9a53</td>\n",
       "      <td>\" \\n\\n == Before adding a new product to the l...</td>\n",
       "      <td>0</td>\n",
       "      <td>0</td>\n",
       "      <td>0</td>\n",
       "      <td>0</td>\n",
       "      <td>0</td>\n",
       "      <td>0</td>\n",
       "    </tr>\n",
       "    <tr>\n",
       "      <th>...</th>\n",
       "      <td>...</td>\n",
       "      <td>...</td>\n",
       "      <td>...</td>\n",
       "      <td>...</td>\n",
       "      <td>...</td>\n",
       "      <td>...</td>\n",
       "      <td>...</td>\n",
       "      <td>...</td>\n",
       "    </tr>\n",
       "    <tr>\n",
       "      <th>153150</th>\n",
       "      <td>fff8f64043129fa2</td>\n",
       "      <td>:Jerome, I see you never got around to this…! ...</td>\n",
       "      <td>0</td>\n",
       "      <td>0</td>\n",
       "      <td>0</td>\n",
       "      <td>0</td>\n",
       "      <td>0</td>\n",
       "      <td>0</td>\n",
       "    </tr>\n",
       "    <tr>\n",
       "      <th>153151</th>\n",
       "      <td>fff9d70fe0722906</td>\n",
       "      <td>==Lucky bastard== \\n http://wikimediafoundatio...</td>\n",
       "      <td>0</td>\n",
       "      <td>0</td>\n",
       "      <td>0</td>\n",
       "      <td>0</td>\n",
       "      <td>0</td>\n",
       "      <td>0</td>\n",
       "    </tr>\n",
       "    <tr>\n",
       "      <th>153154</th>\n",
       "      <td>fffa8a11c4378854</td>\n",
       "      <td>==shame on you all!!!== \\n\\n You want to speak...</td>\n",
       "      <td>0</td>\n",
       "      <td>0</td>\n",
       "      <td>0</td>\n",
       "      <td>0</td>\n",
       "      <td>0</td>\n",
       "      <td>0</td>\n",
       "    </tr>\n",
       "    <tr>\n",
       "      <th>153155</th>\n",
       "      <td>fffac2a094c8e0e2</td>\n",
       "      <td>MEL GIBSON IS A NAZI BITCH WHO MAKES SHITTY MO...</td>\n",
       "      <td>1</td>\n",
       "      <td>0</td>\n",
       "      <td>1</td>\n",
       "      <td>0</td>\n",
       "      <td>1</td>\n",
       "      <td>0</td>\n",
       "    </tr>\n",
       "    <tr>\n",
       "      <th>153156</th>\n",
       "      <td>fffb5451268fb5ba</td>\n",
       "      <td>\" \\n\\n == Unicorn lair discovery == \\n\\n Suppo...</td>\n",
       "      <td>0</td>\n",
       "      <td>0</td>\n",
       "      <td>0</td>\n",
       "      <td>0</td>\n",
       "      <td>0</td>\n",
       "      <td>0</td>\n",
       "    </tr>\n",
       "  </tbody>\n",
       "</table>\n",
       "<p>63978 rows × 8 columns</p>\n",
       "</div>"
      ],
      "text/plain": [
       "                      id                                       comment_text  \\\n",
       "5       0001ea8717f6de06  Thank you for understanding. I think very high...   \n",
       "7       000247e83dcc1211                   :Dear god this site is horrible.   \n",
       "11      0002f87b16116a7f  \"::: Somebody will invariably try to add Relig...   \n",
       "13      0003e1cccfd5a40a  \" \\n\\n It says it right there that it IS a typ...   \n",
       "14      00059ace3e3e9a53  \" \\n\\n == Before adding a new product to the l...   \n",
       "...                  ...                                                ...   \n",
       "153150  fff8f64043129fa2  :Jerome, I see you never got around to this…! ...   \n",
       "153151  fff9d70fe0722906  ==Lucky bastard== \\n http://wikimediafoundatio...   \n",
       "153154  fffa8a11c4378854  ==shame on you all!!!== \\n\\n You want to speak...   \n",
       "153155  fffac2a094c8e0e2  MEL GIBSON IS A NAZI BITCH WHO MAKES SHITTY MO...   \n",
       "153156  fffb5451268fb5ba  \" \\n\\n == Unicorn lair discovery == \\n\\n Suppo...   \n",
       "\n",
       "        toxic  severe_toxic  obscene  threat  insult  identity_hate  \n",
       "5           0             0        0       0       0              0  \n",
       "7           0             0        0       0       0              0  \n",
       "11          0             0        0       0       0              0  \n",
       "13          0             0        0       0       0              0  \n",
       "14          0             0        0       0       0              0  \n",
       "...       ...           ...      ...     ...     ...            ...  \n",
       "153150      0             0        0       0       0              0  \n",
       "153151      0             0        0       0       0              0  \n",
       "153154      0             0        0       0       0              0  \n",
       "153155      1             0        1       0       1              0  \n",
       "153156      0             0        0       0       0              0  \n",
       "\n",
       "[63978 rows x 8 columns]"
      ]
     },
     "execution_count": 51,
     "metadata": {},
     "output_type": "execute_result"
    }
   ],
   "source": [
    "merged_test_df"
   ]
  },
  {
   "cell_type": "code",
   "execution_count": 52,
   "metadata": {
    "execution": {
     "iopub.execute_input": "2024-05-07T15:44:44.791958Z",
     "iopub.status.busy": "2024-05-07T15:44:44.790662Z",
     "iopub.status.idle": "2024-05-07T15:45:11.325707Z",
     "shell.execute_reply": "2024-05-07T15:45:11.324570Z",
     "shell.execute_reply.started": "2024-05-07T15:44:44.791874Z"
    },
    "id": "qLL6NX45YaiX"
   },
   "outputs": [
    {
     "data": {
      "text/html": [
       "<div>\n",
       "<style scoped>\n",
       "    .dataframe tbody tr th:only-of-type {\n",
       "        vertical-align: middle;\n",
       "    }\n",
       "\n",
       "    .dataframe tbody tr th {\n",
       "        vertical-align: top;\n",
       "    }\n",
       "\n",
       "    .dataframe thead th {\n",
       "        text-align: right;\n",
       "    }\n",
       "</style>\n",
       "<table border=\"1\" class=\"dataframe\">\n",
       "  <thead>\n",
       "    <tr style=\"text-align: right;\">\n",
       "      <th></th>\n",
       "      <th>id</th>\n",
       "      <th>comment_text</th>\n",
       "      <th>toxic</th>\n",
       "      <th>severe_toxic</th>\n",
       "      <th>obscene</th>\n",
       "      <th>threat</th>\n",
       "      <th>insult</th>\n",
       "      <th>identity_hate</th>\n",
       "      <th>labels</th>\n",
       "    </tr>\n",
       "  </thead>\n",
       "  <tbody>\n",
       "    <tr>\n",
       "      <th>5</th>\n",
       "      <td>0001ea8717f6de06</td>\n",
       "      <td>Thank you for understanding. I think very high...</td>\n",
       "      <td>0</td>\n",
       "      <td>0</td>\n",
       "      <td>0</td>\n",
       "      <td>0</td>\n",
       "      <td>0</td>\n",
       "      <td>0</td>\n",
       "      <td>[0, 0, 0, 0, 0, 0]</td>\n",
       "    </tr>\n",
       "    <tr>\n",
       "      <th>7</th>\n",
       "      <td>000247e83dcc1211</td>\n",
       "      <td>:Dear god this site is horrible.</td>\n",
       "      <td>0</td>\n",
       "      <td>0</td>\n",
       "      <td>0</td>\n",
       "      <td>0</td>\n",
       "      <td>0</td>\n",
       "      <td>0</td>\n",
       "      <td>[0, 0, 0, 0, 0, 0]</td>\n",
       "    </tr>\n",
       "    <tr>\n",
       "      <th>11</th>\n",
       "      <td>0002f87b16116a7f</td>\n",
       "      <td>\"::: Somebody will invariably try to add Relig...</td>\n",
       "      <td>0</td>\n",
       "      <td>0</td>\n",
       "      <td>0</td>\n",
       "      <td>0</td>\n",
       "      <td>0</td>\n",
       "      <td>0</td>\n",
       "      <td>[0, 0, 0, 0, 0, 0]</td>\n",
       "    </tr>\n",
       "    <tr>\n",
       "      <th>13</th>\n",
       "      <td>0003e1cccfd5a40a</td>\n",
       "      <td>\" \\n\\n It says it right there that it IS a typ...</td>\n",
       "      <td>0</td>\n",
       "      <td>0</td>\n",
       "      <td>0</td>\n",
       "      <td>0</td>\n",
       "      <td>0</td>\n",
       "      <td>0</td>\n",
       "      <td>[0, 0, 0, 0, 0, 0]</td>\n",
       "    </tr>\n",
       "    <tr>\n",
       "      <th>14</th>\n",
       "      <td>00059ace3e3e9a53</td>\n",
       "      <td>\" \\n\\n == Before adding a new product to the l...</td>\n",
       "      <td>0</td>\n",
       "      <td>0</td>\n",
       "      <td>0</td>\n",
       "      <td>0</td>\n",
       "      <td>0</td>\n",
       "      <td>0</td>\n",
       "      <td>[0, 0, 0, 0, 0, 0]</td>\n",
       "    </tr>\n",
       "    <tr>\n",
       "      <th>...</th>\n",
       "      <td>...</td>\n",
       "      <td>...</td>\n",
       "      <td>...</td>\n",
       "      <td>...</td>\n",
       "      <td>...</td>\n",
       "      <td>...</td>\n",
       "      <td>...</td>\n",
       "      <td>...</td>\n",
       "      <td>...</td>\n",
       "    </tr>\n",
       "    <tr>\n",
       "      <th>153150</th>\n",
       "      <td>fff8f64043129fa2</td>\n",
       "      <td>:Jerome, I see you never got around to this…! ...</td>\n",
       "      <td>0</td>\n",
       "      <td>0</td>\n",
       "      <td>0</td>\n",
       "      <td>0</td>\n",
       "      <td>0</td>\n",
       "      <td>0</td>\n",
       "      <td>[0, 0, 0, 0, 0, 0]</td>\n",
       "    </tr>\n",
       "    <tr>\n",
       "      <th>153151</th>\n",
       "      <td>fff9d70fe0722906</td>\n",
       "      <td>==Lucky bastard== \\n http://wikimediafoundatio...</td>\n",
       "      <td>0</td>\n",
       "      <td>0</td>\n",
       "      <td>0</td>\n",
       "      <td>0</td>\n",
       "      <td>0</td>\n",
       "      <td>0</td>\n",
       "      <td>[0, 0, 0, 0, 0, 0]</td>\n",
       "    </tr>\n",
       "    <tr>\n",
       "      <th>153154</th>\n",
       "      <td>fffa8a11c4378854</td>\n",
       "      <td>==shame on you all!!!== \\n\\n You want to speak...</td>\n",
       "      <td>0</td>\n",
       "      <td>0</td>\n",
       "      <td>0</td>\n",
       "      <td>0</td>\n",
       "      <td>0</td>\n",
       "      <td>0</td>\n",
       "      <td>[0, 0, 0, 0, 0, 0]</td>\n",
       "    </tr>\n",
       "    <tr>\n",
       "      <th>153155</th>\n",
       "      <td>fffac2a094c8e0e2</td>\n",
       "      <td>MEL GIBSON IS A NAZI BITCH WHO MAKES SHITTY MO...</td>\n",
       "      <td>1</td>\n",
       "      <td>0</td>\n",
       "      <td>1</td>\n",
       "      <td>0</td>\n",
       "      <td>1</td>\n",
       "      <td>0</td>\n",
       "      <td>[1, 0, 1, 0, 1, 0]</td>\n",
       "    </tr>\n",
       "    <tr>\n",
       "      <th>153156</th>\n",
       "      <td>fffb5451268fb5ba</td>\n",
       "      <td>\" \\n\\n == Unicorn lair discovery == \\n\\n Suppo...</td>\n",
       "      <td>0</td>\n",
       "      <td>0</td>\n",
       "      <td>0</td>\n",
       "      <td>0</td>\n",
       "      <td>0</td>\n",
       "      <td>0</td>\n",
       "      <td>[0, 0, 0, 0, 0, 0]</td>\n",
       "    </tr>\n",
       "  </tbody>\n",
       "</table>\n",
       "<p>63978 rows × 9 columns</p>\n",
       "</div>"
      ],
      "text/plain": [
       "                      id                                       comment_text  \\\n",
       "5       0001ea8717f6de06  Thank you for understanding. I think very high...   \n",
       "7       000247e83dcc1211                   :Dear god this site is horrible.   \n",
       "11      0002f87b16116a7f  \"::: Somebody will invariably try to add Relig...   \n",
       "13      0003e1cccfd5a40a  \" \\n\\n It says it right there that it IS a typ...   \n",
       "14      00059ace3e3e9a53  \" \\n\\n == Before adding a new product to the l...   \n",
       "...                  ...                                                ...   \n",
       "153150  fff8f64043129fa2  :Jerome, I see you never got around to this…! ...   \n",
       "153151  fff9d70fe0722906  ==Lucky bastard== \\n http://wikimediafoundatio...   \n",
       "153154  fffa8a11c4378854  ==shame on you all!!!== \\n\\n You want to speak...   \n",
       "153155  fffac2a094c8e0e2  MEL GIBSON IS A NAZI BITCH WHO MAKES SHITTY MO...   \n",
       "153156  fffb5451268fb5ba  \" \\n\\n == Unicorn lair discovery == \\n\\n Suppo...   \n",
       "\n",
       "        toxic  severe_toxic  obscene  threat  insult  identity_hate  \\\n",
       "5           0             0        0       0       0              0   \n",
       "7           0             0        0       0       0              0   \n",
       "11          0             0        0       0       0              0   \n",
       "13          0             0        0       0       0              0   \n",
       "14          0             0        0       0       0              0   \n",
       "...       ...           ...      ...     ...     ...            ...   \n",
       "153150      0             0        0       0       0              0   \n",
       "153151      0             0        0       0       0              0   \n",
       "153154      0             0        0       0       0              0   \n",
       "153155      1             0        1       0       1              0   \n",
       "153156      0             0        0       0       0              0   \n",
       "\n",
       "                    labels  \n",
       "5       [0, 0, 0, 0, 0, 0]  \n",
       "7       [0, 0, 0, 0, 0, 0]  \n",
       "11      [0, 0, 0, 0, 0, 0]  \n",
       "13      [0, 0, 0, 0, 0, 0]  \n",
       "14      [0, 0, 0, 0, 0, 0]  \n",
       "...                    ...  \n",
       "153150  [0, 0, 0, 0, 0, 0]  \n",
       "153151  [0, 0, 0, 0, 0, 0]  \n",
       "153154  [0, 0, 0, 0, 0, 0]  \n",
       "153155  [1, 0, 1, 0, 1, 0]  \n",
       "153156  [0, 0, 0, 0, 0, 0]  \n",
       "\n",
       "[63978 rows x 9 columns]"
      ]
     },
     "execution_count": 52,
     "metadata": {},
     "output_type": "execute_result"
    }
   ],
   "source": [
    "test_combined_sentiment = []\n",
    "for index, row in merged_test_df.iterrows():\n",
    "    sentiment_list = row[sentiment_features].tolist()\n",
    "    test_combined_sentiment.append(sentiment_list)\n",
    "\n",
    "merged_test_df['labels'] = test_combined_sentiment\n",
    "\n",
    "merged_test_df"
   ]
  },
  {
   "cell_type": "code",
   "execution_count": 53,
   "metadata": {
    "execution": {
     "iopub.execute_input": "2024-05-07T15:45:11.327522Z",
     "iopub.status.busy": "2024-05-07T15:45:11.327204Z",
     "iopub.status.idle": "2024-05-07T15:45:11.657953Z",
     "shell.execute_reply": "2024-05-07T15:45:11.656638Z",
     "shell.execute_reply.started": "2024-05-07T15:45:11.327496Z"
    },
    "id": "8KPZNnF_YaiX"
   },
   "outputs": [
    {
     "data": {
      "text/plain": [
       "Dataset({\n",
       "    features: ['id', 'comment_text', 'toxic', 'severe_toxic', 'obscene', 'threat', 'insult', 'identity_hate', 'labels', '__index_level_0__'],\n",
       "    num_rows: 63978\n",
       "})"
      ]
     },
     "execution_count": 53,
     "metadata": {},
     "output_type": "execute_result"
    }
   ],
   "source": [
    "testing_dataset = Dataset.from_pandas(merged_test_df)\n",
    "testing_dataset"
   ]
  },
  {
   "cell_type": "code",
   "execution_count": 54,
   "metadata": {
    "execution": {
     "iopub.execute_input": "2024-05-07T15:45:11.660697Z",
     "iopub.status.busy": "2024-05-07T15:45:11.659908Z",
     "iopub.status.idle": "2024-05-07T15:45:11.666667Z",
     "shell.execute_reply": "2024-05-07T15:45:11.665430Z",
     "shell.execute_reply.started": "2024-05-07T15:45:11.660657Z"
    },
    "id": "e5l0wr45YaiX"
   },
   "outputs": [],
   "source": [
    "cols = testing_dataset.column_names\n",
    "cols.remove(\"labels\")\n"
   ]
  },
  {
   "cell_type": "code",
   "execution_count": 55,
   "metadata": {
    "execution": {
     "iopub.execute_input": "2024-05-07T15:45:11.668801Z",
     "iopub.status.busy": "2024-05-07T15:45:11.668397Z",
     "iopub.status.idle": "2024-05-07T15:45:36.631080Z",
     "shell.execute_reply": "2024-05-07T15:45:36.630010Z",
     "shell.execute_reply.started": "2024-05-07T15:45:11.668768Z"
    },
    "id": "kveCpjIqYaiY"
   },
   "outputs": [
    {
     "data": {
      "application/vnd.jupyter.widget-view+json": {
       "model_id": "e826b83bf5734f8cb2fe488e2209863c",
       "version_major": 2,
       "version_minor": 0
      },
      "text/plain": [
       "Map:   0%|          | 0/63978 [00:00<?, ? examples/s]"
      ]
     },
     "metadata": {},
     "output_type": "display_data"
    }
   ],
   "source": [
    "testing_dataset = testing_dataset.map(tokenize_function, batched=True,remove_columns=cols)"
   ]
  },
  {
   "cell_type": "code",
   "execution_count": 56,
   "metadata": {
    "execution": {
     "iopub.execute_input": "2024-05-07T15:45:36.632644Z",
     "iopub.status.busy": "2024-05-07T15:45:36.632336Z",
     "iopub.status.idle": "2024-05-07T15:46:02.220064Z",
     "shell.execute_reply": "2024-05-07T15:46:02.218952Z",
     "shell.execute_reply.started": "2024-05-07T15:45:36.632617Z"
    },
    "id": "a7Z38SJcYaiY"
   },
   "outputs": [
    {
     "data": {
      "application/vnd.jupyter.widget-view+json": {
       "model_id": "ddd29d564303473f8b9a27385c433c93",
       "version_major": 2,
       "version_minor": 0
      },
      "text/plain": [
       "Map:   0%|          | 0/63978 [00:00<?, ? examples/s]"
      ]
     },
     "metadata": {},
     "output_type": "display_data"
    }
   ],
   "source": [
    "testing_dataset.set_format(\"torch\")\n",
    "testing_dataset = (testing_dataset\n",
    "          .map(lambda x : {\"float_labels\": x[\"labels\"].to(torch.float)}, remove_columns=[\"labels\"])\n",
    "          .rename_column(\"float_labels\", \"labels\"))"
   ]
  },
  {
   "cell_type": "code",
   "execution_count": 57,
   "metadata": {
    "execution": {
     "iopub.execute_input": "2024-05-07T15:46:02.222254Z",
     "iopub.status.busy": "2024-05-07T15:46:02.221868Z",
     "iopub.status.idle": "2024-05-07T15:46:02.229165Z",
     "shell.execute_reply": "2024-05-07T15:46:02.227963Z",
     "shell.execute_reply.started": "2024-05-07T15:46:02.222220Z"
    },
    "id": "k2hxCnMvYaiY"
   },
   "outputs": [
    {
     "data": {
      "text/plain": [
       "Dataset({\n",
       "    features: ['input_ids', 'attention_mask', 'labels'],\n",
       "    num_rows: 63978\n",
       "})"
      ]
     },
     "execution_count": 57,
     "metadata": {},
     "output_type": "execute_result"
    }
   ],
   "source": [
    "testing_dataset"
   ]
  },
  {
   "cell_type": "markdown",
   "metadata": {},
   "source": [
    "## Model predictions on test data "
   ]
  },
  {
   "cell_type": "code",
   "execution_count": 58,
   "metadata": {
    "execution": {
     "iopub.execute_input": "2024-05-07T15:46:02.230940Z",
     "iopub.status.busy": "2024-05-07T15:46:02.230622Z",
     "iopub.status.idle": "2024-05-07T15:55:25.753635Z",
     "shell.execute_reply": "2024-05-07T15:55:25.751955Z",
     "shell.execute_reply.started": "2024-05-07T15:46:02.230914Z"
    },
    "id": "ddjwbXnwYaiZ"
   },
   "outputs": [
    {
     "name": "stderr",
     "output_type": "stream",
     "text": [
      "/opt/conda/lib/python3.10/site-packages/torch/nn/parallel/_functions.py:68: UserWarning: Was asked to gather along dimension 0, but all input tensors were scalars; will instead unsqueeze and return a vector.\n",
      "  warnings.warn('Was asked to gather along dimension 0, but all '\n"
     ]
    }
   ],
   "source": [
    "predictions = trainer.predict(testing_dataset)\n"
   ]
  },
  {
   "cell_type": "markdown",
   "metadata": {},
   "source": [
    "### Evaluation metrics of model predictions on a test data "
   ]
  },
  {
   "cell_type": "code",
   "execution_count": 59,
   "metadata": {
    "execution": {
     "iopub.execute_input": "2024-05-07T15:55:25.756072Z",
     "iopub.status.busy": "2024-05-07T15:55:25.755598Z",
     "iopub.status.idle": "2024-05-07T15:55:25.767781Z",
     "shell.execute_reply": "2024-05-07T15:55:25.766451Z",
     "shell.execute_reply.started": "2024-05-07T15:55:25.756026Z"
    }
   },
   "outputs": [
    {
     "data": {
      "text/plain": [
       "{'test_loss': 0.09214481711387634,\n",
       " 'test_roc_auc': 0.8912378477558198,\n",
       " 'test_hamming_loss': 0.03595767295007659,\n",
       " 'test_f1': 0.6433039815795246,\n",
       " 'test_runtime': 563.5106,\n",
       " 'test_samples_per_second': 113.535,\n",
       " 'test_steps_per_second': 0.887}"
      ]
     },
     "execution_count": 59,
     "metadata": {},
     "output_type": "execute_result"
    }
   ],
   "source": [
    "predictions[2]"
   ]
  },
  {
   "cell_type": "code",
   "execution_count": 61,
   "metadata": {
    "execution": {
     "iopub.execute_input": "2024-05-07T15:55:25.781513Z",
     "iopub.status.busy": "2024-05-07T15:55:25.781156Z",
     "iopub.status.idle": "2024-05-07T15:55:25.794166Z",
     "shell.execute_reply": "2024-05-07T15:55:25.793057Z",
     "shell.execute_reply.started": "2024-05-07T15:55:25.781482Z"
    },
    "id": "IRRe0lezYaia"
   },
   "outputs": [],
   "source": [
    "probs = sigmoid(torch.Tensor(predictions[0]))\n",
    "\n",
    "y_test_pred = np.zeros(probs.shape)\n",
    "y_test_pred[np.where(probs>=threshold)] = 1"
   ]
  },
  {
   "cell_type": "code",
   "execution_count": 63,
   "metadata": {
    "execution": {
     "iopub.execute_input": "2024-05-07T15:55:27.393039Z",
     "iopub.status.busy": "2024-05-07T15:55:27.392765Z",
     "iopub.status.idle": "2024-05-07T15:55:27.465003Z",
     "shell.execute_reply": "2024-05-07T15:55:27.463964Z",
     "shell.execute_reply.started": "2024-05-07T15:55:27.393016Z"
    },
    "id": "l2bEn2SkYaia",
    "scrolled": false
   },
   "outputs": [
    {
     "name": "stdout",
     "output_type": "stream",
     "text": [
      "              precision    recall  f1-score   support\n",
      "\n",
      "           0       0.45      0.96      0.61      6090\n",
      "           1       0.42      0.42      0.42       367\n",
      "           2       0.57      0.85      0.68      3691\n",
      "           3       0.52      0.45      0.48       211\n",
      "           4       0.62      0.79      0.69      3427\n",
      "           5       0.67      0.57      0.62       712\n",
      "\n",
      "   micro avg       0.51      0.85      0.64     14498\n",
      "   macro avg       0.54      0.67      0.58     14498\n",
      "weighted avg       0.53      0.85      0.64     14498\n",
      " samples avg       0.08      0.08      0.08     14498\n",
      "\n"
     ]
    },
    {
     "name": "stderr",
     "output_type": "stream",
     "text": [
      "/opt/conda/lib/python3.10/site-packages/sklearn/metrics/_classification.py:1344: UndefinedMetricWarning: Precision and F-score are ill-defined and being set to 0.0 in samples with no predicted labels. Use `zero_division` parameter to control this behavior.\n",
      "  _warn_prf(average, modifier, msg_start, len(result))\n",
      "/opt/conda/lib/python3.10/site-packages/sklearn/metrics/_classification.py:1344: UndefinedMetricWarning: Recall and F-score are ill-defined and being set to 0.0 in samples with no true labels. Use `zero_division` parameter to control this behavior.\n",
      "  _warn_prf(average, modifier, msg_start, len(result))\n"
     ]
    }
   ],
   "source": [
    "print(classification_report(predictions[1], np_y_test_pred))"
   ]
  },
  {
   "cell_type": "markdown",
   "metadata": {},
   "source": [
    "* Model has high weighted recall (0.85) , it identifies 85% of all toxic comments as toxic\n",
    "* Model has  weighted precision of 0.53, it predict's only 53% of positive class correct. It isn't bad when considering that negative class instances are more than 10 more."
   ]
  },
  {
   "cell_type": "markdown",
   "metadata": {},
   "source": [
    "### Confusion matrix of model predictions on a test data"
   ]
  },
  {
   "cell_type": "code",
   "execution_count": 62,
   "metadata": {
    "execution": {
     "iopub.execute_input": "2024-05-07T15:55:25.797346Z",
     "iopub.status.busy": "2024-05-07T15:55:25.795284Z",
     "iopub.status.idle": "2024-05-07T15:55:27.391562Z",
     "shell.execute_reply": "2024-05-07T15:55:27.389589Z",
     "shell.execute_reply.started": "2024-05-07T15:55:25.797319Z"
    }
   },
   "outputs": [
    {
     "data": {
      "image/png": "[encoded data removed]",
      "text/plain": [
       "<Figure size 2500x1500 with 7 Axes>"
      ]
     },
     "metadata": {},
     "output_type": "display_data"
    }
   ],
   "source": [
    "np_y_test_pred = np.array(y_test_pred)\n",
    "\n",
    "f, axes = plt.subplots(2, 3, figsize=(25, 15))\n",
    "axes = axes.ravel()\n",
    "\n",
    "\n",
    "for i, class_name in enumerate(class_names):\n",
    "    cm = confusion_matrix(predictions[1][:, i], np_y_test_pred[:, i])\n",
    "    disp = ConfusionMatrixDisplay(confusion_matrix=cm, display_labels=[0, 1])\n",
    "    disp.plot(ax=axes[i], values_format='.4g')\n",
    "    disp.ax_.set_title(f'Class: {class_name}')\n",
    "    if i < 3:\n",
    "        disp.ax_.set_xlabel('')\n",
    "    if i % 3 != 0:\n",
    "        disp.ax_.set_ylabel('')\n",
    "    disp.im_.colorbar.remove()\n",
    "plt.subplots_adjust(wspace=0.10, hspace=0.1)\n",
    "f.colorbar(disp.im_, ax=axes)\n",
    "plt.show()\n"
   ]
  },
  {
   "cell_type": "markdown",
   "metadata": {},
   "source": [
    "# Save of model an it's artefacts"
   ]
  },
  {
   "cell_type": "code",
   "execution_count": 66,
   "metadata": {
    "execution": {
     "iopub.execute_input": "2024-05-07T15:55:29.259634Z",
     "iopub.status.busy": "2024-05-07T15:55:29.259213Z",
     "iopub.status.idle": "2024-05-07T15:55:29.826591Z",
     "shell.execute_reply": "2024-05-07T15:55:29.825508Z",
     "shell.execute_reply.started": "2024-05-07T15:55:29.259595Z"
    },
    "id": "Oone0RCJYaib"
   },
   "outputs": [],
   "source": [
    "model = trainer.model \n",
    "model.save_pretrained(\"/kaggle/working/model\")"
   ]
  },
  {
   "cell_type": "code",
   "execution_count": 67,
   "metadata": {
    "execution": {
     "iopub.execute_input": "2024-05-07T15:55:29.828042Z",
     "iopub.status.busy": "2024-05-07T15:55:29.827764Z",
     "iopub.status.idle": "2024-05-07T15:55:29.853648Z",
     "shell.execute_reply": "2024-05-07T15:55:29.852649Z",
     "shell.execute_reply.started": "2024-05-07T15:55:29.828019Z"
    }
   },
   "outputs": [
    {
     "data": {
      "text/plain": [
       "('/kaggle/working/tokenizer/tokenizer_config.json',\n",
       " '/kaggle/working/tokenizer/special_tokens_map.json',\n",
       " '/kaggle/working/tokenizer/vocab.txt',\n",
       " '/kaggle/working/tokenizer/added_tokens.json',\n",
       " '/kaggle/working/tokenizer/tokenizer.json')"
      ]
     },
     "execution_count": 67,
     "metadata": {},
     "output_type": "execute_result"
    }
   ],
   "source": [
    "tokenizer = trainer.tokenizer  \n",
    "tokenizer.save_pretrained(\"/kaggle/working/tokenizer\")"
   ]
  },
  {
   "cell_type": "code",
   "execution_count": null,
   "metadata": {},
   "outputs": [],
   "source": []
  },
  {
   "cell_type": "markdown",
   "metadata": {},
   "source": [
    "# Conclusion\n",
    "## Model Performance on test data\n",
    "* **Test Roc_auc:**  0.8912378477558198\n",
    "* **Test F1:**  0.6433039815795246\n",
    "* **Test Hamming_loss:** 0.03595767295007659\n",
    "* **Test Samples per second:**  113.535\n",
    "* **Test Weighted recall':**  0.85\n",
    "* **Test Weighted precision:**  0.53"
   ]
  },
  {
   "cell_type": "code",
   "execution_count": null,
   "metadata": {},
   "outputs": [],
   "source": []
  }
 ],
 "metadata": {
  "colab": {
   "name": "Toxic_notebook",
   "provenance": []
  },
  "kaggle": {
   "accelerator": "nvidiaTeslaT4",
   "dataSources": [
    {
     "databundleVersionId": 44219,
     "sourceId": 8076,
     "sourceType": "competition"
    }
   ],
   "dockerImageVersionId": 30699,
   "isGpuEnabled": true,
   "isInternetEnabled": true,
   "language": "python",
   "sourceType": "notebook"
  },
  "kernelspec": {
   "display_name": "Python 3 (ipykernel)",
   "language": "python",
   "name": "python3"
  },
  "language_info": {
   "codemirror_mode": {
    "name": "ipython",
    "version": 3
   },
   "file_extension": ".py",
   "mimetype": "text/x-python",
   "name": "python",
   "nbconvert_exporter": "python",
   "pygments_lexer": "ipython3",
   "version": "3.9.18"
  }
 },
 "nbformat": 4,
 "nbformat_minor": 4
}
